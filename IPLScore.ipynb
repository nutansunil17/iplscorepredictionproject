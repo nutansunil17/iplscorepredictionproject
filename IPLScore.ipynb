{
 "cells": [
  {
   "cell_type": "markdown",
   "id": "be1eeb8c",
   "metadata": {},
   "source": [
    "# IPL Score Prediction Script"
   ]
  },
  {
   "cell_type": "markdown",
   "id": "aeb098ba",
   "metadata": {},
   "source": [
    "#### Objective:\n",
    "The primary goal of this project is to develop a predictive model for estimating IPL (Indian Premier League) cricket match scores based on various match features using machine learning techniques.\n",
    "\n",
    "#### Dataset:\n",
    "The dataset used for this project contains information about IPL matches, including features such as venue, batting team, bowling team, batsman, bowler, and the total score. The dataset was loaded and explored to understand the distribution and relationships among features.\n",
    "\n",
    "#### Exploratory Data Analysis (EDA):\n",
    "- **Distribution Analysis**: A histogram was plotted to visualize the distribution of total scores.\n",
    "- **Correlation Matrix**: A heatmap was generated to show correlations between different features.\n",
    "- **Average Scores by Venue**: Bar plots were created to display the average scores across different venues.\n",
    "- **Boxplots**: Boxplots were used to show score distributions for different batting and bowling teams.\n",
    "\n",
    "#### Data Preprocessing:\n",
    "- Unnecessary features were dropped to simplify the model.\n",
    "- Categorical features (venue, bat_team, bowl_team, batsman, and bowler) were encoded using `LabelEncoder`.\n",
    "- Data was split into training and testing sets (70-30 split).\n",
    "- Features were scaled using `MinMaxScaler`.\n",
    "\n",
    "#### Models Tested:\n",
    "1. **Linear Regression**: A simple linear model to establish a baseline.\n",
    "2. **Random Forest Regressor**: An ensemble learning method using multiple decision trees.\n",
    "3. **Support Vector Regressor (SVR)**: A model using support vector machines for regression tasks.\n",
    "4. **K-Nearest Neighbors Regressor (KNN)**: A non-parametric model that makes predictions based on the nearest training examples.\n",
    "5. **Neural Network**: A deep learning model with hyperparameter tuning using `RandomizedSearchCV`.\n",
    "\n",
    "#### Model Training and Evaluation:\n",
    "- **Linear Regression**: Trained and evaluated for mean absolute error (MAE), mean squared error (MSE), root mean squared error (RMSE), and R2 score.\n",
    "- **Random Forest Regressor**: Trained and evaluated similarly, providing better performance compared to linear regression.\n",
    "- **Support Vector Regressor**: Tested and evaluated, though it showed mixed performance.\n",
    "- **K-Nearest Neighbors Regressor**: Provided reasonable performance, though not as good as ensemble methods.\n",
    "- **Neural Network**: Tuned for hyperparameters such as the number of neurons, batch size, epochs, activation function, and optimizer. The best model was trained and evaluated, showing competitive performance.\n",
    "\n",
    "#### Best Model:\n",
    "The best-performing model was a neural network trained with the optimal hyperparameters found via `RandomizedSearchCV`. It was evaluated for performance metrics and saved for future predictions.\n",
    "\n",
    "#### Interactive Prediction Tool:\n",
    "An interactive tool using `ipywidgets` was developed to allow users to input match features (venue, batting team, bowling team, striker, and bowler) and predict the total score for a match. The tool utilizes the best neural network model for predictions.\n",
    "\n",
    "#### Conclusion:\n",
    "The project successfully developed and compared multiple machine learning models for predicting IPL scores. Extensive data exploration, preprocessing, and model evaluation were conducted to ensure robust predictions. The neural network model, with its hyperparameter optimization, emerged as the best model, providing accurate and reliable score predictions. The interactive tool further enhances the practical utility of the model, making it accessible for real-time score prediction scenarios."
   ]
  },
  {
   "cell_type": "markdown",
   "id": "0c794710",
   "metadata": {},
   "source": [
    "---"
   ]
  },
  {
   "cell_type": "markdown",
   "id": "836725d5",
   "metadata": {},
   "source": [
    "## Prerequisites"
   ]
  },
  {
   "cell_type": "code",
   "execution_count": 1,
   "id": "68c84cfe",
   "metadata": {},
   "outputs": [],
   "source": [
    "import pandas as pd\n",
    "import numpy as np\n",
    "import matplotlib.pyplot as plt\n",
    "import seaborn as sns\n",
    "import sklearn"
   ]
  },
  {
   "cell_type": "code",
   "execution_count": 2,
   "id": "de4c9a26",
   "metadata": {},
   "outputs": [],
   "source": [
    "from sklearn import preprocessing\n",
    "from sklearn.preprocessing import LabelEncoder, MinMaxScaler\n",
    "from sklearn.model_selection import train_test_split\n",
    "import keras\n",
    "import tensorflow as tf\n",
    "from sklearn.metrics import mean_absolute_error, mean_squared_error, r2_score"
   ]
  },
  {
   "cell_type": "code",
   "execution_count": 3,
   "id": "ff228374",
   "metadata": {},
   "outputs": [],
   "source": [
    "import ipywidgets as widgets\n",
    "from IPython.display import display, clear_output\n",
    "import warnings"
   ]
  },
  {
   "cell_type": "code",
   "execution_count": 4,
   "id": "a1e64f3f",
   "metadata": {},
   "outputs": [],
   "source": [
    "warnings.filterwarnings(\"ignore\")"
   ]
  },
  {
   "cell_type": "markdown",
   "id": "d990f935",
   "metadata": {},
   "source": [
    "---"
   ]
  },
  {
   "cell_type": "code",
   "execution_count": 5,
   "id": "2f1f8968",
   "metadata": {},
   "outputs": [
    {
     "ename": "FileNotFoundError",
     "evalue": "[Errno 2] No such file or directory: 'C:/Users/patil/Downloads/IPL_Score_Pred/IPL_Score_Pred_main/ipl_data.csv'",
     "output_type": "error",
     "traceback": [
      "\u001b[1;31m---------------------------------------------------------------------------\u001b[0m",
      "\u001b[1;31mFileNotFoundError\u001b[0m                         Traceback (most recent call last)",
      "Cell \u001b[1;32mIn[5], line 3\u001b[0m\n\u001b[0;32m      1\u001b[0m \u001b[38;5;66;03m# Load the dataset\u001b[39;00m\n\u001b[1;32m----> 3\u001b[0m ipl \u001b[38;5;241m=\u001b[39m \u001b[43mpd\u001b[49m\u001b[38;5;241;43m.\u001b[39;49m\u001b[43mread_csv\u001b[49m\u001b[43m(\u001b[49m\u001b[38;5;124;43m'\u001b[39;49m\u001b[38;5;124;43mC:/Users/patil/Downloads/IPL_Score_Pred/IPL_Score_Pred_main/ipl_data.csv\u001b[39;49m\u001b[38;5;124;43m'\u001b[39;49m\u001b[43m)\u001b[49m\n",
      "File \u001b[1;32m~\\AppData\\Local\\Programs\\Python\\Python312\\Lib\\site-packages\\pandas\\io\\parsers\\readers.py:1026\u001b[0m, in \u001b[0;36mread_csv\u001b[1;34m(filepath_or_buffer, sep, delimiter, header, names, index_col, usecols, dtype, engine, converters, true_values, false_values, skipinitialspace, skiprows, skipfooter, nrows, na_values, keep_default_na, na_filter, verbose, skip_blank_lines, parse_dates, infer_datetime_format, keep_date_col, date_parser, date_format, dayfirst, cache_dates, iterator, chunksize, compression, thousands, decimal, lineterminator, quotechar, quoting, doublequote, escapechar, comment, encoding, encoding_errors, dialect, on_bad_lines, delim_whitespace, low_memory, memory_map, float_precision, storage_options, dtype_backend)\u001b[0m\n\u001b[0;32m   1013\u001b[0m kwds_defaults \u001b[38;5;241m=\u001b[39m _refine_defaults_read(\n\u001b[0;32m   1014\u001b[0m     dialect,\n\u001b[0;32m   1015\u001b[0m     delimiter,\n\u001b[1;32m   (...)\u001b[0m\n\u001b[0;32m   1022\u001b[0m     dtype_backend\u001b[38;5;241m=\u001b[39mdtype_backend,\n\u001b[0;32m   1023\u001b[0m )\n\u001b[0;32m   1024\u001b[0m kwds\u001b[38;5;241m.\u001b[39mupdate(kwds_defaults)\n\u001b[1;32m-> 1026\u001b[0m \u001b[38;5;28;01mreturn\u001b[39;00m \u001b[43m_read\u001b[49m\u001b[43m(\u001b[49m\u001b[43mfilepath_or_buffer\u001b[49m\u001b[43m,\u001b[49m\u001b[43m \u001b[49m\u001b[43mkwds\u001b[49m\u001b[43m)\u001b[49m\n",
      "File \u001b[1;32m~\\AppData\\Local\\Programs\\Python\\Python312\\Lib\\site-packages\\pandas\\io\\parsers\\readers.py:620\u001b[0m, in \u001b[0;36m_read\u001b[1;34m(filepath_or_buffer, kwds)\u001b[0m\n\u001b[0;32m    617\u001b[0m _validate_names(kwds\u001b[38;5;241m.\u001b[39mget(\u001b[38;5;124m\"\u001b[39m\u001b[38;5;124mnames\u001b[39m\u001b[38;5;124m\"\u001b[39m, \u001b[38;5;28;01mNone\u001b[39;00m))\n\u001b[0;32m    619\u001b[0m \u001b[38;5;66;03m# Create the parser.\u001b[39;00m\n\u001b[1;32m--> 620\u001b[0m parser \u001b[38;5;241m=\u001b[39m \u001b[43mTextFileReader\u001b[49m\u001b[43m(\u001b[49m\u001b[43mfilepath_or_buffer\u001b[49m\u001b[43m,\u001b[49m\u001b[43m \u001b[49m\u001b[38;5;241;43m*\u001b[39;49m\u001b[38;5;241;43m*\u001b[39;49m\u001b[43mkwds\u001b[49m\u001b[43m)\u001b[49m\n\u001b[0;32m    622\u001b[0m \u001b[38;5;28;01mif\u001b[39;00m chunksize \u001b[38;5;129;01mor\u001b[39;00m iterator:\n\u001b[0;32m    623\u001b[0m     \u001b[38;5;28;01mreturn\u001b[39;00m parser\n",
      "File \u001b[1;32m~\\AppData\\Local\\Programs\\Python\\Python312\\Lib\\site-packages\\pandas\\io\\parsers\\readers.py:1620\u001b[0m, in \u001b[0;36mTextFileReader.__init__\u001b[1;34m(self, f, engine, **kwds)\u001b[0m\n\u001b[0;32m   1617\u001b[0m     \u001b[38;5;28mself\u001b[39m\u001b[38;5;241m.\u001b[39moptions[\u001b[38;5;124m\"\u001b[39m\u001b[38;5;124mhas_index_names\u001b[39m\u001b[38;5;124m\"\u001b[39m] \u001b[38;5;241m=\u001b[39m kwds[\u001b[38;5;124m\"\u001b[39m\u001b[38;5;124mhas_index_names\u001b[39m\u001b[38;5;124m\"\u001b[39m]\n\u001b[0;32m   1619\u001b[0m \u001b[38;5;28mself\u001b[39m\u001b[38;5;241m.\u001b[39mhandles: IOHandles \u001b[38;5;241m|\u001b[39m \u001b[38;5;28;01mNone\u001b[39;00m \u001b[38;5;241m=\u001b[39m \u001b[38;5;28;01mNone\u001b[39;00m\n\u001b[1;32m-> 1620\u001b[0m \u001b[38;5;28mself\u001b[39m\u001b[38;5;241m.\u001b[39m_engine \u001b[38;5;241m=\u001b[39m \u001b[38;5;28;43mself\u001b[39;49m\u001b[38;5;241;43m.\u001b[39;49m\u001b[43m_make_engine\u001b[49m\u001b[43m(\u001b[49m\u001b[43mf\u001b[49m\u001b[43m,\u001b[49m\u001b[43m \u001b[49m\u001b[38;5;28;43mself\u001b[39;49m\u001b[38;5;241;43m.\u001b[39;49m\u001b[43mengine\u001b[49m\u001b[43m)\u001b[49m\n",
      "File \u001b[1;32m~\\AppData\\Local\\Programs\\Python\\Python312\\Lib\\site-packages\\pandas\\io\\parsers\\readers.py:1880\u001b[0m, in \u001b[0;36mTextFileReader._make_engine\u001b[1;34m(self, f, engine)\u001b[0m\n\u001b[0;32m   1878\u001b[0m     \u001b[38;5;28;01mif\u001b[39;00m \u001b[38;5;124m\"\u001b[39m\u001b[38;5;124mb\u001b[39m\u001b[38;5;124m\"\u001b[39m \u001b[38;5;129;01mnot\u001b[39;00m \u001b[38;5;129;01min\u001b[39;00m mode:\n\u001b[0;32m   1879\u001b[0m         mode \u001b[38;5;241m+\u001b[39m\u001b[38;5;241m=\u001b[39m \u001b[38;5;124m\"\u001b[39m\u001b[38;5;124mb\u001b[39m\u001b[38;5;124m\"\u001b[39m\n\u001b[1;32m-> 1880\u001b[0m \u001b[38;5;28mself\u001b[39m\u001b[38;5;241m.\u001b[39mhandles \u001b[38;5;241m=\u001b[39m \u001b[43mget_handle\u001b[49m\u001b[43m(\u001b[49m\n\u001b[0;32m   1881\u001b[0m \u001b[43m    \u001b[49m\u001b[43mf\u001b[49m\u001b[43m,\u001b[49m\n\u001b[0;32m   1882\u001b[0m \u001b[43m    \u001b[49m\u001b[43mmode\u001b[49m\u001b[43m,\u001b[49m\n\u001b[0;32m   1883\u001b[0m \u001b[43m    \u001b[49m\u001b[43mencoding\u001b[49m\u001b[38;5;241;43m=\u001b[39;49m\u001b[38;5;28;43mself\u001b[39;49m\u001b[38;5;241;43m.\u001b[39;49m\u001b[43moptions\u001b[49m\u001b[38;5;241;43m.\u001b[39;49m\u001b[43mget\u001b[49m\u001b[43m(\u001b[49m\u001b[38;5;124;43m\"\u001b[39;49m\u001b[38;5;124;43mencoding\u001b[39;49m\u001b[38;5;124;43m\"\u001b[39;49m\u001b[43m,\u001b[49m\u001b[43m \u001b[49m\u001b[38;5;28;43;01mNone\u001b[39;49;00m\u001b[43m)\u001b[49m\u001b[43m,\u001b[49m\n\u001b[0;32m   1884\u001b[0m \u001b[43m    \u001b[49m\u001b[43mcompression\u001b[49m\u001b[38;5;241;43m=\u001b[39;49m\u001b[38;5;28;43mself\u001b[39;49m\u001b[38;5;241;43m.\u001b[39;49m\u001b[43moptions\u001b[49m\u001b[38;5;241;43m.\u001b[39;49m\u001b[43mget\u001b[49m\u001b[43m(\u001b[49m\u001b[38;5;124;43m\"\u001b[39;49m\u001b[38;5;124;43mcompression\u001b[39;49m\u001b[38;5;124;43m\"\u001b[39;49m\u001b[43m,\u001b[49m\u001b[43m \u001b[49m\u001b[38;5;28;43;01mNone\u001b[39;49;00m\u001b[43m)\u001b[49m\u001b[43m,\u001b[49m\n\u001b[0;32m   1885\u001b[0m \u001b[43m    \u001b[49m\u001b[43mmemory_map\u001b[49m\u001b[38;5;241;43m=\u001b[39;49m\u001b[38;5;28;43mself\u001b[39;49m\u001b[38;5;241;43m.\u001b[39;49m\u001b[43moptions\u001b[49m\u001b[38;5;241;43m.\u001b[39;49m\u001b[43mget\u001b[49m\u001b[43m(\u001b[49m\u001b[38;5;124;43m\"\u001b[39;49m\u001b[38;5;124;43mmemory_map\u001b[39;49m\u001b[38;5;124;43m\"\u001b[39;49m\u001b[43m,\u001b[49m\u001b[43m \u001b[49m\u001b[38;5;28;43;01mFalse\u001b[39;49;00m\u001b[43m)\u001b[49m\u001b[43m,\u001b[49m\n\u001b[0;32m   1886\u001b[0m \u001b[43m    \u001b[49m\u001b[43mis_text\u001b[49m\u001b[38;5;241;43m=\u001b[39;49m\u001b[43mis_text\u001b[49m\u001b[43m,\u001b[49m\n\u001b[0;32m   1887\u001b[0m \u001b[43m    \u001b[49m\u001b[43merrors\u001b[49m\u001b[38;5;241;43m=\u001b[39;49m\u001b[38;5;28;43mself\u001b[39;49m\u001b[38;5;241;43m.\u001b[39;49m\u001b[43moptions\u001b[49m\u001b[38;5;241;43m.\u001b[39;49m\u001b[43mget\u001b[49m\u001b[43m(\u001b[49m\u001b[38;5;124;43m\"\u001b[39;49m\u001b[38;5;124;43mencoding_errors\u001b[39;49m\u001b[38;5;124;43m\"\u001b[39;49m\u001b[43m,\u001b[49m\u001b[43m \u001b[49m\u001b[38;5;124;43m\"\u001b[39;49m\u001b[38;5;124;43mstrict\u001b[39;49m\u001b[38;5;124;43m\"\u001b[39;49m\u001b[43m)\u001b[49m\u001b[43m,\u001b[49m\n\u001b[0;32m   1888\u001b[0m \u001b[43m    \u001b[49m\u001b[43mstorage_options\u001b[49m\u001b[38;5;241;43m=\u001b[39;49m\u001b[38;5;28;43mself\u001b[39;49m\u001b[38;5;241;43m.\u001b[39;49m\u001b[43moptions\u001b[49m\u001b[38;5;241;43m.\u001b[39;49m\u001b[43mget\u001b[49m\u001b[43m(\u001b[49m\u001b[38;5;124;43m\"\u001b[39;49m\u001b[38;5;124;43mstorage_options\u001b[39;49m\u001b[38;5;124;43m\"\u001b[39;49m\u001b[43m,\u001b[49m\u001b[43m \u001b[49m\u001b[38;5;28;43;01mNone\u001b[39;49;00m\u001b[43m)\u001b[49m\u001b[43m,\u001b[49m\n\u001b[0;32m   1889\u001b[0m \u001b[43m\u001b[49m\u001b[43m)\u001b[49m\n\u001b[0;32m   1890\u001b[0m \u001b[38;5;28;01massert\u001b[39;00m \u001b[38;5;28mself\u001b[39m\u001b[38;5;241m.\u001b[39mhandles \u001b[38;5;129;01mis\u001b[39;00m \u001b[38;5;129;01mnot\u001b[39;00m \u001b[38;5;28;01mNone\u001b[39;00m\n\u001b[0;32m   1891\u001b[0m f \u001b[38;5;241m=\u001b[39m \u001b[38;5;28mself\u001b[39m\u001b[38;5;241m.\u001b[39mhandles\u001b[38;5;241m.\u001b[39mhandle\n",
      "File \u001b[1;32m~\\AppData\\Local\\Programs\\Python\\Python312\\Lib\\site-packages\\pandas\\io\\common.py:873\u001b[0m, in \u001b[0;36mget_handle\u001b[1;34m(path_or_buf, mode, encoding, compression, memory_map, is_text, errors, storage_options)\u001b[0m\n\u001b[0;32m    868\u001b[0m \u001b[38;5;28;01melif\u001b[39;00m \u001b[38;5;28misinstance\u001b[39m(handle, \u001b[38;5;28mstr\u001b[39m):\n\u001b[0;32m    869\u001b[0m     \u001b[38;5;66;03m# Check whether the filename is to be opened in binary mode.\u001b[39;00m\n\u001b[0;32m    870\u001b[0m     \u001b[38;5;66;03m# Binary mode does not support 'encoding' and 'newline'.\u001b[39;00m\n\u001b[0;32m    871\u001b[0m     \u001b[38;5;28;01mif\u001b[39;00m ioargs\u001b[38;5;241m.\u001b[39mencoding \u001b[38;5;129;01mand\u001b[39;00m \u001b[38;5;124m\"\u001b[39m\u001b[38;5;124mb\u001b[39m\u001b[38;5;124m\"\u001b[39m \u001b[38;5;129;01mnot\u001b[39;00m \u001b[38;5;129;01min\u001b[39;00m ioargs\u001b[38;5;241m.\u001b[39mmode:\n\u001b[0;32m    872\u001b[0m         \u001b[38;5;66;03m# Encoding\u001b[39;00m\n\u001b[1;32m--> 873\u001b[0m         handle \u001b[38;5;241m=\u001b[39m \u001b[38;5;28;43mopen\u001b[39;49m\u001b[43m(\u001b[49m\n\u001b[0;32m    874\u001b[0m \u001b[43m            \u001b[49m\u001b[43mhandle\u001b[49m\u001b[43m,\u001b[49m\n\u001b[0;32m    875\u001b[0m \u001b[43m            \u001b[49m\u001b[43mioargs\u001b[49m\u001b[38;5;241;43m.\u001b[39;49m\u001b[43mmode\u001b[49m\u001b[43m,\u001b[49m\n\u001b[0;32m    876\u001b[0m \u001b[43m            \u001b[49m\u001b[43mencoding\u001b[49m\u001b[38;5;241;43m=\u001b[39;49m\u001b[43mioargs\u001b[49m\u001b[38;5;241;43m.\u001b[39;49m\u001b[43mencoding\u001b[49m\u001b[43m,\u001b[49m\n\u001b[0;32m    877\u001b[0m \u001b[43m            \u001b[49m\u001b[43merrors\u001b[49m\u001b[38;5;241;43m=\u001b[39;49m\u001b[43merrors\u001b[49m\u001b[43m,\u001b[49m\n\u001b[0;32m    878\u001b[0m \u001b[43m            \u001b[49m\u001b[43mnewline\u001b[49m\u001b[38;5;241;43m=\u001b[39;49m\u001b[38;5;124;43m\"\u001b[39;49m\u001b[38;5;124;43m\"\u001b[39;49m\u001b[43m,\u001b[49m\n\u001b[0;32m    879\u001b[0m \u001b[43m        \u001b[49m\u001b[43m)\u001b[49m\n\u001b[0;32m    880\u001b[0m     \u001b[38;5;28;01melse\u001b[39;00m:\n\u001b[0;32m    881\u001b[0m         \u001b[38;5;66;03m# Binary mode\u001b[39;00m\n\u001b[0;32m    882\u001b[0m         handle \u001b[38;5;241m=\u001b[39m \u001b[38;5;28mopen\u001b[39m(handle, ioargs\u001b[38;5;241m.\u001b[39mmode)\n",
      "\u001b[1;31mFileNotFoundError\u001b[0m: [Errno 2] No such file or directory: 'C:/Users/patil/Downloads/IPL_Score_Pred/IPL_Score_Pred_main/ipl_data.csv'"
     ]
    }
   ],
   "source": [
    "# Load the dataset\n",
    "\n",
    "ipl = pd.read_csv('E:\\Source Codes\\AIML\\IPLScorePred\\ipl_data.csv')"
   ]
  },
  {
   "cell_type": "markdown",
   "id": "121f3a8d",
   "metadata": {},
   "source": [
    "## Data Preprocessing & Exploratory Data Analysis"
   ]
  },
  {
   "cell_type": "code",
   "execution_count": null,
   "id": "01993d9a",
   "metadata": {},
   "outputs": [],
   "source": [
    "# Drop certain unimportant features\n",
    "\n",
    "df = ipl.drop(['date', 'runs', 'wickets', 'overs', 'runs_last_5', 'wickets_last_5', 'mid', 'striker', 'non-striker'], axis=1)"
   ]
  },
  {
   "cell_type": "code",
   "execution_count": null,
   "id": "c4007d66",
   "metadata": {},
   "outputs": [],
   "source": [
    "# Ensure remaining columns are numeric\n",
    "\n",
    "numeric_columns = df.select_dtypes(include=[np.number]).columns.tolist()"
   ]
  },
  {
   "cell_type": "code",
   "execution_count": null,
   "id": "1c7ace67",
   "metadata": {},
   "outputs": [],
   "source": [
    "# Split the dataframe into independent variable (X) and dependent variable (y)\n",
    "\n",
    "X = df.drop(['total'], axis=1)\n",
    "y = df['total']"
   ]
  },
  {
   "cell_type": "code",
   "execution_count": null,
   "id": "b594e349",
   "metadata": {},
   "outputs": [],
   "source": [
    "# EDA: Visualizations\n",
    "\n",
    "plt.figure(figsize=(12, 8))"
   ]
  },
  {
   "cell_type": "code",
   "execution_count": null,
   "id": "4e285737",
   "metadata": {},
   "outputs": [],
   "source": [
    "# Distribution Plots\n",
    "\n",
    "plt.figure(figsize=(12, 6))\n",
    "sns.histplot(y, bins=30, kde=True, color='blue')\n",
    "plt.title('Distribution of Target Variable (Total Runs)')\n",
    "plt.xlabel('Total Runs')\n",
    "plt.ylabel('Count')"
   ]
  },
  {
   "cell_type": "code",
   "execution_count": null,
   "id": "bd5eaa8c",
   "metadata": {},
   "outputs": [],
   "source": [
    "# Box Plots and Violin Plots\n",
    "plt.figure(figsize=(16, 10))\n",
    "plt.subplot(2, 2, 1)\n",
    "sns.boxplot(x='venue', y='total', data=df)\n",
    "plt.title('Venue vs Total Runs')\n",
    "\n",
    "plt.subplot(2, 2, 2)\n",
    "sns.violinplot(x='bat_team', y='total', data=df)\n",
    "plt.title('Batting Team vs Total Runs')\n",
    "\n",
    "plt.subplot(2, 2, 3)\n",
    "sns.boxplot(x='bowl_team', y='total', data=df)\n",
    "plt.title('Bowling Team vs Total Runs')\n",
    "\n",
    "plt.subplot(2, 2, 4)\n",
    "sns.violinplot(x='batsman', y='total', data=df)\n",
    "plt.title('Batsman vs Total Runs')\n",
    "\n",
    "plt.tight_layout()"
   ]
  },
  {
   "cell_type": "markdown",
   "id": "d3bdd68f",
   "metadata": {},
   "source": [
    "## Label Encoding"
   ]
  },
  {
   "cell_type": "code",
   "execution_count": null,
   "id": "a6c623ca",
   "metadata": {},
   "outputs": [],
   "source": [
    "# Create a LabelEncoder object for each categorical feature\n",
    "\n",
    "venue_encoder = LabelEncoder()\n",
    "batting_team_encoder = LabelEncoder()\n",
    "bowling_team_encoder = LabelEncoder()\n",
    "striker_encoder = LabelEncoder()\n",
    "bowler_encoder = LabelEncoder()"
   ]
  },
  {
   "cell_type": "code",
   "execution_count": null,
   "id": "2a7aa1f3",
   "metadata": {},
   "outputs": [],
   "source": [
    "# Fit and transform the categorical features with label encoding\n",
    "\n",
    "X['venue'] = venue_encoder.fit_transform(X['venue'])\n",
    "X['bat_team'] = batting_team_encoder.fit_transform(X['bat_team'])\n",
    "X['bowl_team'] = bowling_team_encoder.fit_transform(X['bowl_team'])\n",
    "X['batsman'] = striker_encoder.fit_transform(X['batsman'])\n",
    "X['bowler'] = bowler_encoder.fit_transform(X['bowler'])"
   ]
  },
  {
   "cell_type": "markdown",
   "id": "34cb6399",
   "metadata": {},
   "source": [
    "## Train Test Split"
   ]
  },
  {
   "cell_type": "code",
   "execution_count": null,
   "id": "118808db",
   "metadata": {},
   "outputs": [],
   "source": [
    "# Train-test Split\n",
    "\n",
    "X_train, X_test, y_train, y_test = train_test_split(X, y, test_size=0.3, random_state=42)"
   ]
  },
  {
   "cell_type": "markdown",
   "id": "fd2f1aa9",
   "metadata": {},
   "source": [
    "## Data Scaling"
   ]
  },
  {
   "cell_type": "code",
   "execution_count": null,
   "id": "7d2e229d",
   "metadata": {},
   "outputs": [],
   "source": [
    "# Scale the data\n",
    "\n",
    "scaler = MinMaxScaler()\n",
    "X_train_scaled = scaler.fit_transform(X_train)\n",
    "X_test_scaled = scaler.transform(X_test)"
   ]
  },
  {
   "cell_type": "markdown",
   "id": "57766fb3",
   "metadata": {},
   "source": [
    "## Defining & Training Model"
   ]
  },
  {
   "cell_type": "code",
   "execution_count": null,
   "id": "480971a7",
   "metadata": {},
   "outputs": [],
   "source": [
    "# Define the neural network model\n",
    "\n",
    "model = keras.Sequential([\n",
    "    keras.layers.Input(shape=(X_train_scaled.shape[1],)),  # Input layer\n",
    "    keras.layers.Dense(512, activation='relu'),  # Hidden layer with 512 units and ReLU activation\n",
    "    keras.layers.Dense(216, activation='relu'),  # Hidden layer with 216 units and ReLU activation\n",
    "    keras.layers.Dense(1, activation='linear')  # Output layer with linear activation for regression\n",
    "])"
   ]
  },
  {
   "cell_type": "code",
   "execution_count": null,
   "id": "2be529ff",
   "metadata": {},
   "outputs": [],
   "source": [
    "# Wrap the model using KerasRegressor\n",
    "\n",
    "# model = KerasRegressor(build_fn=create_model, verbose=0)"
   ]
  },
  {
   "cell_type": "code",
   "execution_count": null,
   "id": "03041c85",
   "metadata": {},
   "outputs": [],
   "source": [
    "# Compile the model with Huber loss\n",
    "\n",
    "huber_loss = tf.keras.losses.Huber(delta=1.0)\n",
    "model.compile(optimizer='adam', loss=huber_loss)"
   ]
  },
  {
   "cell_type": "code",
   "execution_count": null,
   "id": "82cc2554",
   "metadata": {},
   "outputs": [],
   "source": [
    "# Train the model\n",
    "\n",
    "model.fit(X_train_scaled, y_train, epochs=50, batch_size=64, validation_data=(X_test_scaled, y_test))"
   ]
  },
  {
   "cell_type": "code",
   "execution_count": null,
   "id": "1f486f27",
   "metadata": {},
   "outputs": [],
   "source": [
    "# Plot the model losses\n",
    "model_losses = pd.DataFrame(model.history.history)\n",
    "model_losses.plot()"
   ]
  },
  {
   "cell_type": "markdown",
   "id": "5309c6f8",
   "metadata": {},
   "source": [
    "## Prediction & Evaluation"
   ]
  },
  {
   "cell_type": "code",
   "execution_count": null,
   "id": "08da3a34",
   "metadata": {},
   "outputs": [],
   "source": [
    "# Make predictions\n",
    "\n",
    "predictions = model.predict(X_test_scaled)\n",
    "mae = mean_absolute_error(y_test, predictions)\n",
    "print(f\"Mean Absolute Error: {mae}\")"
   ]
  },
  {
   "cell_type": "code",
   "execution_count": null,
   "id": "2bb00468",
   "metadata": {},
   "outputs": [],
   "source": [
    "# Calculate Mean Absolute Error (MAE)\n",
    "mae = mean_absolute_error(y_test, predictions)\n",
    "print(f\"Mean Absolute Error (MAE): {mae}\")\n",
    "\n",
    "# Calculate Mean Squared Error (MSE)\n",
    "mse = mean_squared_error(y_test, predictions)\n",
    "print(f\"Mean Squared Error (MSE): {mse}\")\n",
    "\n",
    "# Calculate R-squared (R2) score\n",
    "r2 = r2_score(y_test, predictions)\n",
    "print(f\"R-squared (R2) Score: {r2}\")"
   ]
  },
  {
   "cell_type": "markdown",
   "id": "ed37be9d",
   "metadata": {},
   "source": [
    "Based on the metrics:\n",
    "\n",
    "- **Mean Absolute Error (MAE)**: 19.73\n",
    "- **Mean Squared Error (MSE)**: 718.05\n",
    "- **R-squared (R2) Score**: 0.149\n",
    "\n",
    "### Interpretation:\n",
    "- **MAE**: The MAE of 19.73 runs implies that, on average, your model's predictions are somewhat close to the actual scores, but there is room for improvement, especially in reducing the errors.\n",
    "  \n",
    "- **MSE**: The MSE being relatively high (718.05) suggests that there are some predictions that are significantly off from the actual scores, contributing to a larger average squared error.\n",
    "\n",
    "- **R-squared (R2) Score**: A low R2 score (0.149) indicates that your model does not capture much of the variability in IPL scores with the features provided. This could be due to various reasons such as insufficient features, non-linear relationships, or noise in the data that the model is unable to account for."
   ]
  },
  {
   "cell_type": "markdown",
   "id": "fe6d09f3",
   "metadata": {},
   "source": [
    "## User Interactive Widget"
   ]
  },
  {
   "cell_type": "code",
   "execution_count": null,
   "id": "26f3d2a7",
   "metadata": {},
   "outputs": [],
   "source": [
    "# Create interactive widgets\n",
    "venue = widgets.Dropdown(options=df['venue'].unique().tolist(), description='Select Venue:')\n",
    "batting_team = widgets.Dropdown(options=df['bat_team'].unique().tolist(), description='Select Batting Team:')\n",
    "bowling_team = widgets.Dropdown(options=df['bowl_team'].unique().tolist(), description='Select Bowling Team:')\n",
    "striker = widgets.Dropdown(options=df['batsman'].unique().tolist(), description='Select Striker:')\n",
    "bowler = widgets.Dropdown(options=df['bowler'].unique().tolist(), description='Select Bowler:')\n",
    "predict_button = widgets.Button(description=\"Predict Score\")\n",
    "\n",
    "output = widgets.Output()"
   ]
  },
  {
   "cell_type": "code",
   "execution_count": null,
   "id": "dfb9b44d",
   "metadata": {},
   "outputs": [],
   "source": [
    "def predict_score(b):\n",
    "    with output:\n",
    "        clear_output()  # Clear the previous output\n",
    "        \n",
    "        # Encode the selected values\n",
    "        encoded_venue = venue_encoder.transform([venue.value])\n",
    "        encoded_batting_team = batting_team_encoder.transform([batting_team.value])\n",
    "        encoded_bowling_team = bowling_team_encoder.transform([bowling_team.value])\n",
    "        encoded_striker = striker_encoder.transform([striker.value])\n",
    "        encoded_bowler = bowler_encoder.transform([bowler.value])\n",
    "\n",
    "        # Prepare the input for prediction\n",
    "        input_data = np.array([encoded_venue[0], encoded_batting_team[0], encoded_bowling_team[0], encoded_striker[0], encoded_bowler[0]])\n",
    "        input_data = input_data.reshape(1, -1)\n",
    "        input_data = scaler.transform(input_data)\n",
    "\n",
    "        # Make the prediction\n",
    "        predicted_score = model.predict(input_data)\n",
    "        predicted_score = int(predicted_score[0,0])\n",
    "        \n",
    "        print(f\"Predicted Score: {predicted_score}\")\n",
    "\n",
    "predict_button.on_click(predict_score)\n",
    "\n",
    "display(venue, batting_team, bowling_team, striker, bowler, predict_button, output)\n"
   ]
  },
  {
   "cell_type": "markdown",
   "id": "3699628c",
   "metadata": {},
   "source": [
    "---"
   ]
  },
  {
   "cell_type": "markdown",
   "id": "7e845b87",
   "metadata": {},
   "source": [
    "## Experimenting on Neural Network Architecture\n",
    "#### Adjusting Layers and Units:"
   ]
  },
  {
   "cell_type": "code",
   "execution_count": null,
   "id": "9b1e5e9c",
   "metadata": {},
   "outputs": [],
   "source": [
    "model = keras.Sequential([\n",
    "    keras.layers.Input(shape=(X_train_scaled.shape[1],)),\n",
    "    keras.layers.Dense(512, activation='relu'),\n",
    "    keras.layers.Dense(256, activation='relu'),  # Increased from 216 to 256 units\n",
    "    keras.layers.Dense(128, activation='relu'),  # Added another layer with 128 units\n",
    "    keras.layers.Dense(1, activation='linear')\n",
    "])"
   ]
  },
  {
   "cell_type": "code",
   "execution_count": null,
   "id": "1ad85a20",
   "metadata": {},
   "outputs": [],
   "source": [
    "# Compile the model with Huber loss\n",
    "\n",
    "huber_loss = tf.keras.losses.Huber(delta=1.0)\n",
    "model.compile(optimizer='adam', loss=huber_loss)"
   ]
  },
  {
   "cell_type": "code",
   "execution_count": null,
   "id": "62f036a6",
   "metadata": {},
   "outputs": [],
   "source": [
    "# Train the model\n",
    "\n",
    "model.fit(X_train_scaled, y_train, epochs=50, batch_size=64, validation_data=(X_test_scaled, y_test))"
   ]
  },
  {
   "cell_type": "code",
   "execution_count": null,
   "id": "618fb597",
   "metadata": {},
   "outputs": [],
   "source": [
    "# Plot the model losses\n",
    "model_losses = pd.DataFrame(model.history.history)\n",
    "model_losses.plot()"
   ]
  },
  {
   "cell_type": "code",
   "execution_count": null,
   "id": "555b5859",
   "metadata": {},
   "outputs": [],
   "source": [
    "# Make predictions\n",
    "\n",
    "predictions = model.predict(X_test_scaled)\n",
    "mae = mean_absolute_error(y_test, predictions)\n",
    "print(f\"Mean Absolute Error: {mae}\")"
   ]
  },
  {
   "cell_type": "code",
   "execution_count": null,
   "id": "6dc4dd4a",
   "metadata": {},
   "outputs": [],
   "source": [
    "# Calculate Mean Absolute Error (MAE)\n",
    "mae = mean_absolute_error(y_test, predictions)\n",
    "print(f\"Mean Absolute Error (MAE): {mae}\")\n",
    "\n",
    "# Calculate Mean Squared Error (MSE)\n",
    "mse = mean_squared_error(y_test, predictions)\n",
    "print(f\"Mean Squared Error (MSE): {mse}\")\n",
    "\n",
    "# Calculate R-squared (R2) score\n",
    "r2 = r2_score(y_test, predictions)\n",
    "print(f\"R-squared (R2) Score: {r2}\")"
   ]
  },
  {
   "cell_type": "markdown",
   "id": "ab6e7a41",
   "metadata": {},
   "source": [
    "It looks like adjusting the neural network architecture has indeed improved the model's performance. Here’s a summary of the new metrics:\n",
    "\n",
    "- **Mean Absolute Error (MAE)**: 16.73\n",
    "- **Mean Squared Error (MSE)**: 566.51\n",
    "- **R-squared (R2) Score**: 0.328\n",
    "\n",
    "### Interpretation:\n",
    "\n",
    "1. **Mean Absolute Error (MAE)**: The MAE of 16.73 indicates that, on average, your model's predictions are off by approximately 16.73 runs from the actual scores. This is an improvement from the previous MAE of 19.73, suggesting better accuracy.\n",
    "\n",
    "2. **Mean Squared Error (MSE)**: The MSE of 566.51 is also lower compared to the previous MSE of 718.05. This implies that the model's predictions have smaller errors in magnitude on average.\n",
    "\n",
    "3. **R-squared (R2) Score**: The R2 score of 0.328 indicates that your model now explains about 32.8% of the variance in the IPL scores. This is a significant improvement from the earlier R2 score of 0.149, suggesting that the model's ability to predict scores based on the features has improved."
   ]
  },
  {
   "cell_type": "markdown",
   "id": "b0285467",
   "metadata": {},
   "source": [
    "---"
   ]
  },
  {
   "cell_type": "markdown",
   "id": "c82f02c3",
   "metadata": {},
   "source": [
    "#### Regularization Techniques:\n",
    "Incorporate dropout layers to prevent overfitting, especially when using deeper networks."
   ]
  },
  {
   "cell_type": "code",
   "execution_count": null,
   "id": "4a054a38",
   "metadata": {},
   "outputs": [],
   "source": [
    "model = keras.Sequential([\n",
    "    keras.layers.Input(shape=(X_train_scaled.shape[1],)),\n",
    "    keras.layers.Dense(512, activation='relu'),\n",
    "    keras.layers.Dropout(0.2),  # Example of dropout regularization\n",
    "    keras.layers.Dense(256, activation='relu'),\n",
    "    keras.layers.Dropout(0.2),\n",
    "    keras.layers.Dense(128, activation='relu'),\n",
    "    keras.layers.Dropout(0.2),\n",
    "    keras.layers.Dense(1, activation='linear')\n",
    "])"
   ]
  },
  {
   "cell_type": "code",
   "execution_count": null,
   "id": "93b90295",
   "metadata": {},
   "outputs": [],
   "source": [
    "# Compile the model with Huber loss\n",
    "\n",
    "huber_loss = tf.keras.losses.Huber(delta=1.0)\n",
    "model.compile(optimizer='adam', loss=huber_loss)"
   ]
  },
  {
   "cell_type": "code",
   "execution_count": null,
   "id": "9f97d466",
   "metadata": {},
   "outputs": [],
   "source": [
    "# Train the model\n",
    "\n",
    "model.fit(X_train_scaled, y_train, epochs=50, batch_size=64, validation_data=(X_test_scaled, y_test))"
   ]
  },
  {
   "cell_type": "code",
   "execution_count": null,
   "id": "53473373",
   "metadata": {},
   "outputs": [],
   "source": [
    "# Plot the model losses\n",
    "model_losses = pd.DataFrame(model.history.history)\n",
    "model_losses.plot()"
   ]
  },
  {
   "cell_type": "code",
   "execution_count": null,
   "id": "1f10d986",
   "metadata": {},
   "outputs": [],
   "source": [
    "# Make predictions\n",
    "\n",
    "predictions = model.predict(X_test_scaled)\n",
    "mae = mean_absolute_error(y_test, predictions)\n",
    "print(f\"Mean Absolute Error: {mae}\")"
   ]
  },
  {
   "cell_type": "code",
   "execution_count": null,
   "id": "fafa1862",
   "metadata": {},
   "outputs": [],
   "source": [
    "# Calculate Mean Absolute Error (MAE)\n",
    "mae = mean_absolute_error(y_test, predictions)\n",
    "print(f\"Mean Absolute Error (MAE): {mae}\")\n",
    "\n",
    "# Calculate Mean Squared Error (MSE)\n",
    "mse = mean_squared_error(y_test, predictions)\n",
    "print(f\"Mean Squared Error (MSE): {mse}\")\n",
    "\n",
    "# Calculate R-squared (R2) score\n",
    "r2 = r2_score(y_test, predictions)\n",
    "print(f\"R-squared (R2) Score: {r2}\")"
   ]
  },
  {
   "cell_type": "markdown",
   "id": "5bb01733",
   "metadata": {},
   "source": [
    "It seems that adding dropout regularization to our neural network architecture has slightly increased the errors compared to the previous model configuration. Here are the scores:\n",
    "\n",
    "- **Mean Absolute Error (MAE)**: 20.12\n",
    "- **Mean Squared Error (MSE)**: 708.42\n",
    "- **R-squared (R2) Score**: 0.160\n",
    "\n",
    "### Interpretation:\n",
    "\n",
    "1. **Mean Absolute Error (MAE)**: The MAE of 20.12 indicates that, on average, your model's predictions are off by approximately 20.12 runs from the actual scores. This is higher compared to the previous MAE of 16.73 without dropout.\n",
    "\n",
    "2. **Mean Squared Error (MSE)**: The MSE of 708.42 is also higher compared to the previous MSE of 566.51. This suggests that the model's predictions have larger errors in magnitude on average when dropout regularization is applied.\n",
    "\n",
    "3. **R-squared (R2) Score**: The R2 score of 0.160 indicates that your model explains about 16.0% of the variance in the IPL scores. This is lower than the previous R2 score of 0.328, indicating that the model's predictive capability has decreased with dropout regularization."
   ]
  },
  {
   "cell_type": "markdown",
   "id": "5332f0b6",
   "metadata": {},
   "source": [
    "---"
   ]
  },
  {
   "cell_type": "markdown",
   "id": "fbdf5d78",
   "metadata": {},
   "source": [
    "#### Adjusting Layers and Units:"
   ]
  },
  {
   "cell_type": "code",
   "execution_count": null,
   "id": "b9d23055",
   "metadata": {},
   "outputs": [],
   "source": [
    "model = keras.Sequential([\n",
    "    keras.layers.Input(shape=(X_train_scaled.shape[1],)),\n",
    "    keras.layers.Dense(512, activation='relu'),\n",
    "    keras.layers.Dense(512, activation='relu'),  # Adding another layer with 512 units\n",
    "    keras.layers.Dense(256, activation='relu'),\n",
    "    keras.layers.Dense(128, activation='relu'),\n",
    "    keras.layers.Dense(64, activation='relu'),\n",
    "    keras.layers.Dense(32, activation='relu'),   # Adding another layer with 32 units\n",
    "    keras.layers.Dense(1, activation='linear')\n",
    "])\n"
   ]
  },
  {
   "cell_type": "code",
   "execution_count": null,
   "id": "6e6905e0",
   "metadata": {},
   "outputs": [],
   "source": [
    "# Compile the model with Huber loss\n",
    "\n",
    "huber_loss = tf.keras.losses.Huber(delta=1.0)\n",
    "model.compile(optimizer='adam', loss=huber_loss)"
   ]
  },
  {
   "cell_type": "code",
   "execution_count": null,
   "id": "61ef456c",
   "metadata": {},
   "outputs": [],
   "source": [
    "# Train the model\n",
    "\n",
    "model.fit(X_train_scaled, y_train, epochs=50, batch_size=64, validation_data=(X_test_scaled, y_test))"
   ]
  },
  {
   "cell_type": "code",
   "execution_count": null,
   "id": "e6b97f21",
   "metadata": {},
   "outputs": [],
   "source": [
    "# Plot the model losses\n",
    "model_losses = pd.DataFrame(model.history.history)\n",
    "model_losses.plot()"
   ]
  },
  {
   "cell_type": "code",
   "execution_count": null,
   "id": "8bd63300",
   "metadata": {},
   "outputs": [],
   "source": [
    "# Make predictions\n",
    "\n",
    "predictions = model.predict(X_test_scaled)\n",
    "mae = mean_absolute_error(y_test, predictions)\n",
    "print(f\"Mean Absolute Error: {mae}\")"
   ]
  },
  {
   "cell_type": "code",
   "execution_count": null,
   "id": "59652a4c",
   "metadata": {},
   "outputs": [],
   "source": [
    "# Calculate Mean Absolute Error (MAE)\n",
    "mae = mean_absolute_error(y_test, predictions)\n",
    "print(f\"Mean Absolute Error (MAE): {mae}\")\n",
    "\n",
    "# Calculate Mean Squared Error (MSE)\n",
    "mse = mean_squared_error(y_test, predictions)\n",
    "print(f\"Mean Squared Error (MSE): {mse}\")\n",
    "\n",
    "# Calculate R-squared (R2) score\n",
    "r2 = r2_score(y_test, predictions)\n",
    "print(f\"R-squared (R2) Score: {r2}\")"
   ]
  },
  {
   "cell_type": "markdown",
   "id": "44e1133c",
   "metadata": {},
   "source": [
    "It looks like the adjustments you made to the neural network architecture have significantly improved the model's performance. Here are the new scores:\n",
    "\n",
    "- **Mean Absolute Error (MAE)**: 11.95\n",
    "- **Mean Squared Error (MSE)**: 344.24\n",
    "- **R-squared (R2) Score**: 0.592\n",
    "\n",
    "### Interpretation:\n",
    "\n",
    "1. **Mean Absolute Error (MAE)**: The MAE of 11.95 indicates that, on average, your model's predictions are off by approximately 11.95 runs from the actual scores. This is a considerable improvement from the previous MAE values, suggesting that the model's accuracy has substantially increased.\n",
    "\n",
    "2. **Mean Squared Error (MSE)**: The MSE of 344.24 is significantly lower compared to previous values. This means that the model's predictions are closer to the actual scores, with smaller errors in magnitude on average.\n",
    "\n",
    "3. **R-squared (R2) Score**: The R2 score of 0.592 indicates that your model now explains about 59.2% of the variance in the IPL scores. This is a substantial improvement, showing that the model's ability to predict scores based on the features has greatly enhanced."
   ]
  },
  {
   "cell_type": "code",
   "execution_count": null,
   "id": "f5fc1386",
   "metadata": {},
   "outputs": [],
   "source": [
    "# Create interactive widgets\n",
    "venue = widgets.Dropdown(options=df['venue'].unique().tolist(), description='Select Venue:')\n",
    "batting_team = widgets.Dropdown(options=df['bat_team'].unique().tolist(), description='Select Batting Team:')\n",
    "bowling_team = widgets.Dropdown(options=df['bowl_team'].unique().tolist(), description='Select Bowling Team:')\n",
    "striker = widgets.Dropdown(options=df['batsman'].unique().tolist(), description='Select Striker:')\n",
    "bowler = widgets.Dropdown(options=df['bowler'].unique().tolist(), description='Select Bowler:')\n",
    "predict_button = widgets.Button(description=\"Predict Score\")\n",
    "\n",
    "output = widgets.Output()"
   ]
  },
  {
   "cell_type": "code",
   "execution_count": null,
   "id": "440ad3d3",
   "metadata": {},
   "outputs": [],
   "source": [
    "def predict_score(b):\n",
    "    with output:\n",
    "        clear_output()  # Clear the previous output\n",
    "        \n",
    "        # Encode the selected values\n",
    "        encoded_venue = venue_encoder.transform([venue.value])\n",
    "        encoded_batting_team = batting_team_encoder.transform([batting_team.value])\n",
    "        encoded_bowling_team = bowling_team_encoder.transform([bowling_team.value])\n",
    "        encoded_striker = striker_encoder.transform([striker.value])\n",
    "        encoded_bowler = bowler_encoder.transform([bowler.value])\n",
    "\n",
    "        # Prepare the input for prediction\n",
    "        input_data = np.array([encoded_venue[0], encoded_batting_team[0], encoded_bowling_team[0], encoded_striker[0], encoded_bowler[0]])\n",
    "        input_data = input_data.reshape(1, -1)\n",
    "        input_data = scaler.transform(input_data)\n",
    "\n",
    "        # Make the prediction\n",
    "        predicted_score = model.predict(input_data)\n",
    "        predicted_score = int(predicted_score[0,0])\n",
    "        \n",
    "        print(f\"Predicted Score: {predicted_score}\")\n",
    "\n",
    "predict_button.on_click(predict_score)\n",
    "\n",
    "display(venue, batting_team, bowling_team, striker, bowler, predict_button, output)\n"
   ]
  },
  {
   "cell_type": "code",
   "execution_count": null,
   "id": "1dbd2c10",
   "metadata": {},
   "outputs": [],
   "source": []
  }
 ],
 "metadata": {
  "kernelspec": {
   "display_name": "Python 3 (ipykernel)",
   "language": "python",
   "name": "python3"
  },
  "language_info": {
   "codemirror_mode": {
    "name": "ipython",
    "version": 3
   },
   "file_extension": ".py",
   "mimetype": "text/x-python",
   "name": "python",
   "nbconvert_exporter": "python",
   "pygments_lexer": "ipython3",
   "version": "3.12.4"
  }
 },
 "nbformat": 4,
 "nbformat_minor": 5
}
