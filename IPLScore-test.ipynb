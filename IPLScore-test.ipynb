{
 "cells": [
  {
   "cell_type": "code",
   "execution_count": null,
   "id": "e90cfe54",
   "metadata": {},
   "outputs": [],
   "source": []
  },
  {
   "cell_type": "code",
   "execution_count": null,
   "id": "b33ea1bf",
   "metadata": {},
   "outputs": [],
   "source": []
  },
  {
   "cell_type": "code",
   "execution_count": null,
   "id": "376dffec",
   "metadata": {},
   "outputs": [],
   "source": []
  },
  {
   "cell_type": "code",
   "execution_count": 1,
   "id": "a1bb92e8",
   "metadata": {},
   "outputs": [],
   "source": [
    "import pandas as pd\n",
    "import numpy as np\n",
    "import matplotlib.pyplot as plt\n",
    "import seaborn as sns\n",
    "from sklearn import preprocessing\n",
    "import keras \n",
    "import tensorflow as tf"
   ]
  },
  {
   "cell_type": "code",
   "execution_count": 2,
   "id": "0cd46982-843c-4c68-88ae-6ed5ade59c82",
   "metadata": {},
   "outputs": [
    {
     "data": {
      "text/html": [
       "<div>\n",
       "<style scoped>\n",
       "    .dataframe tbody tr th:only-of-type {\n",
       "        vertical-align: middle;\n",
       "    }\n",
       "\n",
       "    .dataframe tbody tr th {\n",
       "        vertical-align: top;\n",
       "    }\n",
       "\n",
       "    .dataframe thead th {\n",
       "        text-align: right;\n",
       "    }\n",
       "</style>\n",
       "<table border=\"1\" class=\"dataframe\">\n",
       "  <thead>\n",
       "    <tr style=\"text-align: right;\">\n",
       "      <th></th>\n",
       "      <th>mid</th>\n",
       "      <th>date</th>\n",
       "      <th>venue</th>\n",
       "      <th>bat_team</th>\n",
       "      <th>bowl_team</th>\n",
       "      <th>batsman</th>\n",
       "      <th>bowler</th>\n",
       "      <th>runs</th>\n",
       "      <th>wickets</th>\n",
       "      <th>overs</th>\n",
       "      <th>runs_last_5</th>\n",
       "      <th>wickets_last_5</th>\n",
       "      <th>striker</th>\n",
       "      <th>non-striker</th>\n",
       "      <th>total</th>\n",
       "    </tr>\n",
       "  </thead>\n",
       "  <tbody>\n",
       "    <tr>\n",
       "      <th>0</th>\n",
       "      <td>1</td>\n",
       "      <td>2008-04-18</td>\n",
       "      <td>M Chinnaswamy Stadium</td>\n",
       "      <td>Kolkata Knight Riders</td>\n",
       "      <td>Royal Challengers Bangalore</td>\n",
       "      <td>SC Ganguly</td>\n",
       "      <td>P Kumar</td>\n",
       "      <td>1</td>\n",
       "      <td>0</td>\n",
       "      <td>0.1</td>\n",
       "      <td>1</td>\n",
       "      <td>0</td>\n",
       "      <td>0</td>\n",
       "      <td>0</td>\n",
       "      <td>222</td>\n",
       "    </tr>\n",
       "    <tr>\n",
       "      <th>1</th>\n",
       "      <td>1</td>\n",
       "      <td>2008-04-18</td>\n",
       "      <td>M Chinnaswamy Stadium</td>\n",
       "      <td>Kolkata Knight Riders</td>\n",
       "      <td>Royal Challengers Bangalore</td>\n",
       "      <td>BB McCullum</td>\n",
       "      <td>P Kumar</td>\n",
       "      <td>1</td>\n",
       "      <td>0</td>\n",
       "      <td>0.2</td>\n",
       "      <td>1</td>\n",
       "      <td>0</td>\n",
       "      <td>0</td>\n",
       "      <td>0</td>\n",
       "      <td>222</td>\n",
       "    </tr>\n",
       "    <tr>\n",
       "      <th>2</th>\n",
       "      <td>1</td>\n",
       "      <td>2008-04-18</td>\n",
       "      <td>M Chinnaswamy Stadium</td>\n",
       "      <td>Kolkata Knight Riders</td>\n",
       "      <td>Royal Challengers Bangalore</td>\n",
       "      <td>BB McCullum</td>\n",
       "      <td>P Kumar</td>\n",
       "      <td>2</td>\n",
       "      <td>0</td>\n",
       "      <td>0.2</td>\n",
       "      <td>2</td>\n",
       "      <td>0</td>\n",
       "      <td>0</td>\n",
       "      <td>0</td>\n",
       "      <td>222</td>\n",
       "    </tr>\n",
       "    <tr>\n",
       "      <th>3</th>\n",
       "      <td>1</td>\n",
       "      <td>2008-04-18</td>\n",
       "      <td>M Chinnaswamy Stadium</td>\n",
       "      <td>Kolkata Knight Riders</td>\n",
       "      <td>Royal Challengers Bangalore</td>\n",
       "      <td>BB McCullum</td>\n",
       "      <td>P Kumar</td>\n",
       "      <td>2</td>\n",
       "      <td>0</td>\n",
       "      <td>0.3</td>\n",
       "      <td>2</td>\n",
       "      <td>0</td>\n",
       "      <td>0</td>\n",
       "      <td>0</td>\n",
       "      <td>222</td>\n",
       "    </tr>\n",
       "    <tr>\n",
       "      <th>4</th>\n",
       "      <td>1</td>\n",
       "      <td>2008-04-18</td>\n",
       "      <td>M Chinnaswamy Stadium</td>\n",
       "      <td>Kolkata Knight Riders</td>\n",
       "      <td>Royal Challengers Bangalore</td>\n",
       "      <td>BB McCullum</td>\n",
       "      <td>P Kumar</td>\n",
       "      <td>2</td>\n",
       "      <td>0</td>\n",
       "      <td>0.4</td>\n",
       "      <td>2</td>\n",
       "      <td>0</td>\n",
       "      <td>0</td>\n",
       "      <td>0</td>\n",
       "      <td>222</td>\n",
       "    </tr>\n",
       "    <tr>\n",
       "      <th>...</th>\n",
       "      <td>...</td>\n",
       "      <td>...</td>\n",
       "      <td>...</td>\n",
       "      <td>...</td>\n",
       "      <td>...</td>\n",
       "      <td>...</td>\n",
       "      <td>...</td>\n",
       "      <td>...</td>\n",
       "      <td>...</td>\n",
       "      <td>...</td>\n",
       "      <td>...</td>\n",
       "      <td>...</td>\n",
       "      <td>...</td>\n",
       "      <td>...</td>\n",
       "      <td>...</td>\n",
       "    </tr>\n",
       "    <tr>\n",
       "      <th>76009</th>\n",
       "      <td>617</td>\n",
       "      <td>2017-05-21</td>\n",
       "      <td>Rajiv Gandhi International Stadium, Uppal</td>\n",
       "      <td>Mumbai Indians</td>\n",
       "      <td>Rising Pune Supergiant</td>\n",
       "      <td>KH Pandya</td>\n",
       "      <td>DT Christian</td>\n",
       "      <td>121</td>\n",
       "      <td>7</td>\n",
       "      <td>19.2</td>\n",
       "      <td>40</td>\n",
       "      <td>0</td>\n",
       "      <td>40</td>\n",
       "      <td>12</td>\n",
       "      <td>129</td>\n",
       "    </tr>\n",
       "    <tr>\n",
       "      <th>76010</th>\n",
       "      <td>617</td>\n",
       "      <td>2017-05-21</td>\n",
       "      <td>Rajiv Gandhi International Stadium, Uppal</td>\n",
       "      <td>Mumbai Indians</td>\n",
       "      <td>Rising Pune Supergiant</td>\n",
       "      <td>KH Pandya</td>\n",
       "      <td>DT Christian</td>\n",
       "      <td>127</td>\n",
       "      <td>7</td>\n",
       "      <td>19.3</td>\n",
       "      <td>46</td>\n",
       "      <td>0</td>\n",
       "      <td>46</td>\n",
       "      <td>12</td>\n",
       "      <td>129</td>\n",
       "    </tr>\n",
       "    <tr>\n",
       "      <th>76011</th>\n",
       "      <td>617</td>\n",
       "      <td>2017-05-21</td>\n",
       "      <td>Rajiv Gandhi International Stadium, Uppal</td>\n",
       "      <td>Mumbai Indians</td>\n",
       "      <td>Rising Pune Supergiant</td>\n",
       "      <td>KH Pandya</td>\n",
       "      <td>DT Christian</td>\n",
       "      <td>128</td>\n",
       "      <td>7</td>\n",
       "      <td>19.4</td>\n",
       "      <td>47</td>\n",
       "      <td>0</td>\n",
       "      <td>47</td>\n",
       "      <td>12</td>\n",
       "      <td>129</td>\n",
       "    </tr>\n",
       "    <tr>\n",
       "      <th>76012</th>\n",
       "      <td>617</td>\n",
       "      <td>2017-05-21</td>\n",
       "      <td>Rajiv Gandhi International Stadium, Uppal</td>\n",
       "      <td>Mumbai Indians</td>\n",
       "      <td>Rising Pune Supergiant</td>\n",
       "      <td>MG Johnson</td>\n",
       "      <td>DT Christian</td>\n",
       "      <td>129</td>\n",
       "      <td>7</td>\n",
       "      <td>19.5</td>\n",
       "      <td>48</td>\n",
       "      <td>0</td>\n",
       "      <td>47</td>\n",
       "      <td>13</td>\n",
       "      <td>129</td>\n",
       "    </tr>\n",
       "    <tr>\n",
       "      <th>76013</th>\n",
       "      <td>617</td>\n",
       "      <td>2017-05-21</td>\n",
       "      <td>Rajiv Gandhi International Stadium, Uppal</td>\n",
       "      <td>Mumbai Indians</td>\n",
       "      <td>Rising Pune Supergiant</td>\n",
       "      <td>KH Pandya</td>\n",
       "      <td>DT Christian</td>\n",
       "      <td>129</td>\n",
       "      <td>8</td>\n",
       "      <td>19.6</td>\n",
       "      <td>47</td>\n",
       "      <td>1</td>\n",
       "      <td>47</td>\n",
       "      <td>13</td>\n",
       "      <td>129</td>\n",
       "    </tr>\n",
       "  </tbody>\n",
       "</table>\n",
       "<p>76014 rows × 15 columns</p>\n",
       "</div>"
      ],
      "text/plain": [
       "       mid        date                                      venue  \\\n",
       "0        1  2008-04-18                      M Chinnaswamy Stadium   \n",
       "1        1  2008-04-18                      M Chinnaswamy Stadium   \n",
       "2        1  2008-04-18                      M Chinnaswamy Stadium   \n",
       "3        1  2008-04-18                      M Chinnaswamy Stadium   \n",
       "4        1  2008-04-18                      M Chinnaswamy Stadium   \n",
       "...    ...         ...                                        ...   \n",
       "76009  617  2017-05-21  Rajiv Gandhi International Stadium, Uppal   \n",
       "76010  617  2017-05-21  Rajiv Gandhi International Stadium, Uppal   \n",
       "76011  617  2017-05-21  Rajiv Gandhi International Stadium, Uppal   \n",
       "76012  617  2017-05-21  Rajiv Gandhi International Stadium, Uppal   \n",
       "76013  617  2017-05-21  Rajiv Gandhi International Stadium, Uppal   \n",
       "\n",
       "                    bat_team                    bowl_team      batsman  \\\n",
       "0      Kolkata Knight Riders  Royal Challengers Bangalore   SC Ganguly   \n",
       "1      Kolkata Knight Riders  Royal Challengers Bangalore  BB McCullum   \n",
       "2      Kolkata Knight Riders  Royal Challengers Bangalore  BB McCullum   \n",
       "3      Kolkata Knight Riders  Royal Challengers Bangalore  BB McCullum   \n",
       "4      Kolkata Knight Riders  Royal Challengers Bangalore  BB McCullum   \n",
       "...                      ...                          ...          ...   \n",
       "76009         Mumbai Indians       Rising Pune Supergiant    KH Pandya   \n",
       "76010         Mumbai Indians       Rising Pune Supergiant    KH Pandya   \n",
       "76011         Mumbai Indians       Rising Pune Supergiant    KH Pandya   \n",
       "76012         Mumbai Indians       Rising Pune Supergiant   MG Johnson   \n",
       "76013         Mumbai Indians       Rising Pune Supergiant    KH Pandya   \n",
       "\n",
       "             bowler  runs  wickets  overs  runs_last_5  wickets_last_5  \\\n",
       "0           P Kumar     1        0    0.1            1               0   \n",
       "1           P Kumar     1        0    0.2            1               0   \n",
       "2           P Kumar     2        0    0.2            2               0   \n",
       "3           P Kumar     2        0    0.3            2               0   \n",
       "4           P Kumar     2        0    0.4            2               0   \n",
       "...             ...   ...      ...    ...          ...             ...   \n",
       "76009  DT Christian   121        7   19.2           40               0   \n",
       "76010  DT Christian   127        7   19.3           46               0   \n",
       "76011  DT Christian   128        7   19.4           47               0   \n",
       "76012  DT Christian   129        7   19.5           48               0   \n",
       "76013  DT Christian   129        8   19.6           47               1   \n",
       "\n",
       "       striker  non-striker  total  \n",
       "0            0            0    222  \n",
       "1            0            0    222  \n",
       "2            0            0    222  \n",
       "3            0            0    222  \n",
       "4            0            0    222  \n",
       "...        ...          ...    ...  \n",
       "76009       40           12    129  \n",
       "76010       46           12    129  \n",
       "76011       47           12    129  \n",
       "76012       47           13    129  \n",
       "76013       47           13    129  \n",
       "\n",
       "[76014 rows x 15 columns]"
      ]
     },
     "execution_count": 2,
     "metadata": {},
     "output_type": "execute_result"
    }
   ],
   "source": [
    "ipl = pd.read_csv('C:/Users/patil/Downloads/IPL-score-pred/IPL-score-pred-main/ipl_data.csv')\n",
    "ipl\n"
   ]
  },
  {
   "cell_type": "code",
   "execution_count": 3,
   "id": "0fcfd189",
   "metadata": {},
   "outputs": [
    {
     "data": {
      "text/html": [
       "<div>\n",
       "<style scoped>\n",
       "    .dataframe tbody tr th:only-of-type {\n",
       "        vertical-align: middle;\n",
       "    }\n",
       "\n",
       "    .dataframe tbody tr th {\n",
       "        vertical-align: top;\n",
       "    }\n",
       "\n",
       "    .dataframe thead th {\n",
       "        text-align: right;\n",
       "    }\n",
       "</style>\n",
       "<table border=\"1\" class=\"dataframe\">\n",
       "  <thead>\n",
       "    <tr style=\"text-align: right;\">\n",
       "      <th></th>\n",
       "      <th>mid</th>\n",
       "      <th>date</th>\n",
       "      <th>venue</th>\n",
       "      <th>bat_team</th>\n",
       "      <th>bowl_team</th>\n",
       "      <th>batsman</th>\n",
       "      <th>bowler</th>\n",
       "      <th>runs</th>\n",
       "      <th>wickets</th>\n",
       "      <th>overs</th>\n",
       "      <th>runs_last_5</th>\n",
       "      <th>wickets_last_5</th>\n",
       "      <th>striker</th>\n",
       "      <th>non-striker</th>\n",
       "      <th>total</th>\n",
       "    </tr>\n",
       "  </thead>\n",
       "  <tbody>\n",
       "    <tr>\n",
       "      <th>0</th>\n",
       "      <td>1</td>\n",
       "      <td>2008-04-18</td>\n",
       "      <td>M Chinnaswamy Stadium</td>\n",
       "      <td>Kolkata Knight Riders</td>\n",
       "      <td>Royal Challengers Bangalore</td>\n",
       "      <td>SC Ganguly</td>\n",
       "      <td>P Kumar</td>\n",
       "      <td>1</td>\n",
       "      <td>0</td>\n",
       "      <td>0.1</td>\n",
       "      <td>1</td>\n",
       "      <td>0</td>\n",
       "      <td>0</td>\n",
       "      <td>0</td>\n",
       "      <td>222</td>\n",
       "    </tr>\n",
       "    <tr>\n",
       "      <th>1</th>\n",
       "      <td>1</td>\n",
       "      <td>2008-04-18</td>\n",
       "      <td>M Chinnaswamy Stadium</td>\n",
       "      <td>Kolkata Knight Riders</td>\n",
       "      <td>Royal Challengers Bangalore</td>\n",
       "      <td>BB McCullum</td>\n",
       "      <td>P Kumar</td>\n",
       "      <td>1</td>\n",
       "      <td>0</td>\n",
       "      <td>0.2</td>\n",
       "      <td>1</td>\n",
       "      <td>0</td>\n",
       "      <td>0</td>\n",
       "      <td>0</td>\n",
       "      <td>222</td>\n",
       "    </tr>\n",
       "    <tr>\n",
       "      <th>2</th>\n",
       "      <td>1</td>\n",
       "      <td>2008-04-18</td>\n",
       "      <td>M Chinnaswamy Stadium</td>\n",
       "      <td>Kolkata Knight Riders</td>\n",
       "      <td>Royal Challengers Bangalore</td>\n",
       "      <td>BB McCullum</td>\n",
       "      <td>P Kumar</td>\n",
       "      <td>2</td>\n",
       "      <td>0</td>\n",
       "      <td>0.2</td>\n",
       "      <td>2</td>\n",
       "      <td>0</td>\n",
       "      <td>0</td>\n",
       "      <td>0</td>\n",
       "      <td>222</td>\n",
       "    </tr>\n",
       "    <tr>\n",
       "      <th>3</th>\n",
       "      <td>1</td>\n",
       "      <td>2008-04-18</td>\n",
       "      <td>M Chinnaswamy Stadium</td>\n",
       "      <td>Kolkata Knight Riders</td>\n",
       "      <td>Royal Challengers Bangalore</td>\n",
       "      <td>BB McCullum</td>\n",
       "      <td>P Kumar</td>\n",
       "      <td>2</td>\n",
       "      <td>0</td>\n",
       "      <td>0.3</td>\n",
       "      <td>2</td>\n",
       "      <td>0</td>\n",
       "      <td>0</td>\n",
       "      <td>0</td>\n",
       "      <td>222</td>\n",
       "    </tr>\n",
       "    <tr>\n",
       "      <th>4</th>\n",
       "      <td>1</td>\n",
       "      <td>2008-04-18</td>\n",
       "      <td>M Chinnaswamy Stadium</td>\n",
       "      <td>Kolkata Knight Riders</td>\n",
       "      <td>Royal Challengers Bangalore</td>\n",
       "      <td>BB McCullum</td>\n",
       "      <td>P Kumar</td>\n",
       "      <td>2</td>\n",
       "      <td>0</td>\n",
       "      <td>0.4</td>\n",
       "      <td>2</td>\n",
       "      <td>0</td>\n",
       "      <td>0</td>\n",
       "      <td>0</td>\n",
       "      <td>222</td>\n",
       "    </tr>\n",
       "  </tbody>\n",
       "</table>\n",
       "</div>"
      ],
      "text/plain": [
       "   mid        date                  venue               bat_team  \\\n",
       "0    1  2008-04-18  M Chinnaswamy Stadium  Kolkata Knight Riders   \n",
       "1    1  2008-04-18  M Chinnaswamy Stadium  Kolkata Knight Riders   \n",
       "2    1  2008-04-18  M Chinnaswamy Stadium  Kolkata Knight Riders   \n",
       "3    1  2008-04-18  M Chinnaswamy Stadium  Kolkata Knight Riders   \n",
       "4    1  2008-04-18  M Chinnaswamy Stadium  Kolkata Knight Riders   \n",
       "\n",
       "                     bowl_team      batsman   bowler  runs  wickets  overs  \\\n",
       "0  Royal Challengers Bangalore   SC Ganguly  P Kumar     1        0    0.1   \n",
       "1  Royal Challengers Bangalore  BB McCullum  P Kumar     1        0    0.2   \n",
       "2  Royal Challengers Bangalore  BB McCullum  P Kumar     2        0    0.2   \n",
       "3  Royal Challengers Bangalore  BB McCullum  P Kumar     2        0    0.3   \n",
       "4  Royal Challengers Bangalore  BB McCullum  P Kumar     2        0    0.4   \n",
       "\n",
       "   runs_last_5  wickets_last_5  striker  non-striker  total  \n",
       "0            1               0        0            0    222  \n",
       "1            1               0        0            0    222  \n",
       "2            2               0        0            0    222  \n",
       "3            2               0        0            0    222  \n",
       "4            2               0        0            0    222  "
      ]
     },
     "execution_count": 3,
     "metadata": {},
     "output_type": "execute_result"
    }
   ],
   "source": [
    "ipl = pd.read_csv('C:/Users/patil/Downloads/IPL-score-pred/IPL-score-pred-main/ipl_data.csv')\n",
    "ipl.head()\n",
    "\n",
    "\n"
   ]
  },
  {
   "cell_type": "code",
   "execution_count": 4,
   "id": "efb2388c-fc42-4338-82f9-03577b2784a7",
   "metadata": {},
   "outputs": [
    {
     "data": {
      "text/plain": [
       "(76014, 15)"
      ]
     },
     "execution_count": 4,
     "metadata": {},
     "output_type": "execute_result"
    }
   ],
   "source": [
    "ipl.shape"
   ]
  },
  {
   "cell_type": "code",
   "execution_count": 5,
   "id": "287ab605-948e-497f-afff-c610f80ca33e",
   "metadata": {},
   "outputs": [
    {
     "data": {
      "text/plain": [
       "mid                 int64\n",
       "date               object\n",
       "venue              object\n",
       "bat_team           object\n",
       "bowl_team          object\n",
       "batsman            object\n",
       "bowler             object\n",
       "runs                int64\n",
       "wickets             int64\n",
       "overs             float64\n",
       "runs_last_5         int64\n",
       "wickets_last_5      int64\n",
       "striker             int64\n",
       "non-striker         int64\n",
       "total               int64\n",
       "dtype: object"
      ]
     },
     "execution_count": 5,
     "metadata": {},
     "output_type": "execute_result"
    }
   ],
   "source": [
    "ipl.dtypes"
   ]
  },
  {
   "cell_type": "code",
   "execution_count": 6,
   "id": "7116cdc4-d99e-4435-9d73-715c70017624",
   "metadata": {},
   "outputs": [
    {
     "data": {
      "text/html": [
       "<div>\n",
       "<style scoped>\n",
       "    .dataframe tbody tr th:only-of-type {\n",
       "        vertical-align: middle;\n",
       "    }\n",
       "\n",
       "    .dataframe tbody tr th {\n",
       "        vertical-align: top;\n",
       "    }\n",
       "\n",
       "    .dataframe thead th {\n",
       "        text-align: right;\n",
       "    }\n",
       "</style>\n",
       "<table border=\"1\" class=\"dataframe\">\n",
       "  <thead>\n",
       "    <tr style=\"text-align: right;\">\n",
       "      <th></th>\n",
       "      <th>mid</th>\n",
       "      <th>runs</th>\n",
       "      <th>wickets</th>\n",
       "      <th>overs</th>\n",
       "      <th>runs_last_5</th>\n",
       "      <th>wickets_last_5</th>\n",
       "      <th>striker</th>\n",
       "      <th>non-striker</th>\n",
       "      <th>total</th>\n",
       "    </tr>\n",
       "  </thead>\n",
       "  <tbody>\n",
       "    <tr>\n",
       "      <th>count</th>\n",
       "      <td>76014.000000</td>\n",
       "      <td>76014.000000</td>\n",
       "      <td>76014.000000</td>\n",
       "      <td>76014.000000</td>\n",
       "      <td>76014.000000</td>\n",
       "      <td>76014.000000</td>\n",
       "      <td>76014.000000</td>\n",
       "      <td>76014.000000</td>\n",
       "      <td>76014.000000</td>\n",
       "    </tr>\n",
       "    <tr>\n",
       "      <th>mean</th>\n",
       "      <td>308.627740</td>\n",
       "      <td>74.889349</td>\n",
       "      <td>2.415844</td>\n",
       "      <td>9.783068</td>\n",
       "      <td>33.216434</td>\n",
       "      <td>1.120307</td>\n",
       "      <td>24.962283</td>\n",
       "      <td>8.869287</td>\n",
       "      <td>160.901452</td>\n",
       "    </tr>\n",
       "    <tr>\n",
       "      <th>std</th>\n",
       "      <td>178.156878</td>\n",
       "      <td>48.823327</td>\n",
       "      <td>2.015207</td>\n",
       "      <td>5.772587</td>\n",
       "      <td>14.914174</td>\n",
       "      <td>1.053343</td>\n",
       "      <td>20.079752</td>\n",
       "      <td>10.795742</td>\n",
       "      <td>29.246231</td>\n",
       "    </tr>\n",
       "    <tr>\n",
       "      <th>min</th>\n",
       "      <td>1.000000</td>\n",
       "      <td>0.000000</td>\n",
       "      <td>0.000000</td>\n",
       "      <td>0.000000</td>\n",
       "      <td>0.000000</td>\n",
       "      <td>0.000000</td>\n",
       "      <td>0.000000</td>\n",
       "      <td>0.000000</td>\n",
       "      <td>67.000000</td>\n",
       "    </tr>\n",
       "    <tr>\n",
       "      <th>25%</th>\n",
       "      <td>154.000000</td>\n",
       "      <td>34.000000</td>\n",
       "      <td>1.000000</td>\n",
       "      <td>4.600000</td>\n",
       "      <td>24.000000</td>\n",
       "      <td>0.000000</td>\n",
       "      <td>10.000000</td>\n",
       "      <td>1.000000</td>\n",
       "      <td>142.000000</td>\n",
       "    </tr>\n",
       "    <tr>\n",
       "      <th>50%</th>\n",
       "      <td>308.000000</td>\n",
       "      <td>70.000000</td>\n",
       "      <td>2.000000</td>\n",
       "      <td>9.600000</td>\n",
       "      <td>34.000000</td>\n",
       "      <td>1.000000</td>\n",
       "      <td>20.000000</td>\n",
       "      <td>5.000000</td>\n",
       "      <td>162.000000</td>\n",
       "    </tr>\n",
       "    <tr>\n",
       "      <th>75%</th>\n",
       "      <td>463.000000</td>\n",
       "      <td>111.000000</td>\n",
       "      <td>4.000000</td>\n",
       "      <td>14.600000</td>\n",
       "      <td>43.000000</td>\n",
       "      <td>2.000000</td>\n",
       "      <td>35.000000</td>\n",
       "      <td>13.000000</td>\n",
       "      <td>181.000000</td>\n",
       "    </tr>\n",
       "    <tr>\n",
       "      <th>max</th>\n",
       "      <td>617.000000</td>\n",
       "      <td>263.000000</td>\n",
       "      <td>10.000000</td>\n",
       "      <td>19.600000</td>\n",
       "      <td>113.000000</td>\n",
       "      <td>7.000000</td>\n",
       "      <td>175.000000</td>\n",
       "      <td>109.000000</td>\n",
       "      <td>263.000000</td>\n",
       "    </tr>\n",
       "  </tbody>\n",
       "</table>\n",
       "</div>"
      ],
      "text/plain": [
       "                mid          runs       wickets         overs   runs_last_5  \\\n",
       "count  76014.000000  76014.000000  76014.000000  76014.000000  76014.000000   \n",
       "mean     308.627740     74.889349      2.415844      9.783068     33.216434   \n",
       "std      178.156878     48.823327      2.015207      5.772587     14.914174   \n",
       "min        1.000000      0.000000      0.000000      0.000000      0.000000   \n",
       "25%      154.000000     34.000000      1.000000      4.600000     24.000000   \n",
       "50%      308.000000     70.000000      2.000000      9.600000     34.000000   \n",
       "75%      463.000000    111.000000      4.000000     14.600000     43.000000   \n",
       "max      617.000000    263.000000     10.000000     19.600000    113.000000   \n",
       "\n",
       "       wickets_last_5       striker   non-striker         total  \n",
       "count    76014.000000  76014.000000  76014.000000  76014.000000  \n",
       "mean         1.120307     24.962283      8.869287    160.901452  \n",
       "std          1.053343     20.079752     10.795742     29.246231  \n",
       "min          0.000000      0.000000      0.000000     67.000000  \n",
       "25%          0.000000     10.000000      1.000000    142.000000  \n",
       "50%          1.000000     20.000000      5.000000    162.000000  \n",
       "75%          2.000000     35.000000     13.000000    181.000000  \n",
       "max          7.000000    175.000000    109.000000    263.000000  "
      ]
     },
     "execution_count": 6,
     "metadata": {},
     "output_type": "execute_result"
    }
   ],
   "source": [
    "ipl.describe()"
   ]
  },
  {
   "cell_type": "code",
   "execution_count": 7,
   "id": "d430c6fe-6efd-46d8-9ae8-260fb23868ee",
   "metadata": {},
   "outputs": [
    {
     "name": "stdout",
     "output_type": "stream",
     "text": [
      "<class 'pandas.core.frame.DataFrame'>\n",
      "RangeIndex: 76014 entries, 0 to 76013\n",
      "Data columns (total 15 columns):\n",
      " #   Column          Non-Null Count  Dtype  \n",
      "---  ------          --------------  -----  \n",
      " 0   mid             76014 non-null  int64  \n",
      " 1   date            76014 non-null  object \n",
      " 2   venue           76014 non-null  object \n",
      " 3   bat_team        76014 non-null  object \n",
      " 4   bowl_team       76014 non-null  object \n",
      " 5   batsman         76014 non-null  object \n",
      " 6   bowler          76014 non-null  object \n",
      " 7   runs            76014 non-null  int64  \n",
      " 8   wickets         76014 non-null  int64  \n",
      " 9   overs           76014 non-null  float64\n",
      " 10  runs_last_5     76014 non-null  int64  \n",
      " 11  wickets_last_5  76014 non-null  int64  \n",
      " 12  striker         76014 non-null  int64  \n",
      " 13  non-striker     76014 non-null  int64  \n",
      " 14  total           76014 non-null  int64  \n",
      "dtypes: float64(1), int64(8), object(6)\n",
      "memory usage: 8.7+ MB\n"
     ]
    }
   ],
   "source": [
    "ipl.info()"
   ]
  },
  {
   "cell_type": "code",
   "execution_count": 8,
   "id": "734caf5f-dbae-4f16-a16f-c73a9dc3ade1",
   "metadata": {},
   "outputs": [
    {
     "data": {
      "text/plain": [
       "(76014, 15)"
      ]
     },
     "execution_count": 8,
     "metadata": {},
     "output_type": "execute_result"
    }
   ],
   "source": [
    "ipl.shape"
   ]
  },
  {
   "cell_type": "code",
   "execution_count": 9,
   "id": "deb89f33-114d-4d3b-ab76-07958679cd10",
   "metadata": {},
   "outputs": [
    {
     "data": {
      "text/plain": [
       "mid                 int64\n",
       "date               object\n",
       "venue              object\n",
       "bat_team           object\n",
       "bowl_team          object\n",
       "batsman            object\n",
       "bowler             object\n",
       "runs                int64\n",
       "wickets             int64\n",
       "overs             float64\n",
       "runs_last_5         int64\n",
       "wickets_last_5      int64\n",
       "striker             int64\n",
       "non-striker         int64\n",
       "total               int64\n",
       "dtype: object"
      ]
     },
     "execution_count": 9,
     "metadata": {},
     "output_type": "execute_result"
    }
   ],
   "source": [
    "ipl.dtypes"
   ]
  },
  {
   "cell_type": "code",
   "execution_count": 10,
   "id": "12e8113e-1e70-410e-a0fb-7867322d1061",
   "metadata": {},
   "outputs": [
    {
     "data": {
      "text/plain": [
       "mid               0\n",
       "date              0\n",
       "venue             0\n",
       "bat_team          0\n",
       "bowl_team         0\n",
       "batsman           0\n",
       "bowler            0\n",
       "runs              0\n",
       "wickets           0\n",
       "overs             0\n",
       "runs_last_5       0\n",
       "wickets_last_5    0\n",
       "striker           0\n",
       "non-striker       0\n",
       "total             0\n",
       "dtype: int64"
      ]
     },
     "execution_count": 10,
     "metadata": {},
     "output_type": "execute_result"
    }
   ],
   "source": [
    "ipl.isna().sum()"
   ]
  },
  {
   "cell_type": "code",
   "execution_count": 11,
   "id": "54486cb3-c32d-4bdf-8bb0-7b074fc52a88",
   "metadata": {},
   "outputs": [
    {
     "data": {
      "text/plain": [
       "array(['Kolkata Knight Riders', 'Chennai Super Kings', 'Rajasthan Royals',\n",
       "       'Mumbai Indians', 'Deccan Chargers', 'Kings XI Punjab',\n",
       "       'Royal Challengers Bangalore', 'Delhi Daredevils',\n",
       "       'Kochi Tuskers Kerala', 'Pune Warriors', 'Sunrisers Hyderabad',\n",
       "       'Rising Pune Supergiants', 'Gujarat Lions',\n",
       "       'Rising Pune Supergiant'], dtype=object)"
      ]
     },
     "execution_count": 11,
     "metadata": {},
     "output_type": "execute_result"
    }
   ],
   "source": [
    "ipl['bat_team'].unique()"
   ]
  },
  {
   "cell_type": "code",
   "execution_count": 12,
   "id": "0c8295f1-c734-4785-815a-bba9007a9d3c",
   "metadata": {},
   "outputs": [
    {
     "data": {
      "text/plain": [
       "array(['Royal Challengers Bangalore', 'Kings XI Punjab',\n",
       "       'Delhi Daredevils', 'Kolkata Knight Riders', 'Rajasthan Royals',\n",
       "       'Mumbai Indians', 'Chennai Super Kings', 'Deccan Chargers',\n",
       "       'Pune Warriors', 'Kochi Tuskers Kerala', 'Sunrisers Hyderabad',\n",
       "       'Rising Pune Supergiants', 'Gujarat Lions',\n",
       "       'Rising Pune Supergiant'], dtype=object)"
      ]
     },
     "execution_count": 12,
     "metadata": {},
     "output_type": "execute_result"
    }
   ],
   "source": [
    "ipl['bowl_team'].unique()"
   ]
  },
  {
   "cell_type": "code",
   "execution_count": 13,
   "id": "4774732a-d7e0-40ad-ada2-40907d28ed28",
   "metadata": {},
   "outputs": [
    {
     "data": {
      "text/plain": [
       "35"
      ]
     },
     "execution_count": 13,
     "metadata": {},
     "output_type": "execute_result"
    }
   ],
   "source": [
    "ipl['venue'].nunique()"
   ]
  },
  {
   "cell_type": "code",
   "execution_count": 14,
   "id": "0ec4716e-06a7-42f2-8caf-2fe94f174dd7",
   "metadata": {},
   "outputs": [
    {
     "data": {
      "text/plain": [
       "array(['M Chinnaswamy Stadium',\n",
       "       'Punjab Cricket Association Stadium, Mohali', 'Feroz Shah Kotla',\n",
       "       'Wankhede Stadium', 'Eden Gardens', 'Sawai Mansingh Stadium',\n",
       "       'Rajiv Gandhi International Stadium, Uppal',\n",
       "       'MA Chidambaram Stadium, Chepauk', 'Dr DY Patil Sports Academy',\n",
       "       'Newlands', \"St George's Park\", 'Kingsmead', 'SuperSport Park',\n",
       "       'Buffalo Park', 'New Wanderers Stadium', 'De Beers Diamond Oval',\n",
       "       'OUTsurance Oval', 'Brabourne Stadium',\n",
       "       'Sardar Patel Stadium, Motera', 'Barabati Stadium',\n",
       "       'Vidarbha Cricket Association Stadium, Jamtha',\n",
       "       'Himachal Pradesh Cricket Association Stadium', 'Nehru Stadium',\n",
       "       'Holkar Cricket Stadium',\n",
       "       'Dr. Y.S. Rajasekhara Reddy ACA-VDCA Cricket Stadium',\n",
       "       'Subrata Roy Sahara Stadium',\n",
       "       'Shaheed Veer Narayan Singh International Stadium',\n",
       "       'JSCA International Stadium Complex', 'Sheikh Zayed Stadium',\n",
       "       'Sharjah Cricket Stadium', 'Dubai International Cricket Stadium',\n",
       "       'Maharashtra Cricket Association Stadium',\n",
       "       'Punjab Cricket Association IS Bindra Stadium, Mohali',\n",
       "       'Saurashtra Cricket Association Stadium', 'Green Park'],\n",
       "      dtype=object)"
      ]
     },
     "execution_count": 14,
     "metadata": {},
     "output_type": "execute_result"
    }
   ],
   "source": [
    "ipl['venue'].unique()"
   ]
  },
  {
   "cell_type": "code",
   "execution_count": 15,
   "id": "95242ede-6ec5-4d10-8bac-6df3e54aa20f",
   "metadata": {},
   "outputs": [
    {
     "data": {
      "text/plain": [
       "array(['2008-04-18', '2008-04-19', '2008-04-20', '2008-04-21',\n",
       "       '2008-04-22', '2008-04-23', '2008-04-24', '2008-04-25',\n",
       "       '2008-04-26', '2008-04-27', '2008-04-28', '2008-04-29',\n",
       "       '2008-04-30', '2008-05-01', '2008-05-02', '2008-05-25',\n",
       "       '2008-05-03', '2008-05-04', '2008-05-05', '2008-05-06',\n",
       "       '2008-05-07', '2008-05-08', '2008-05-09', '2008-05-28',\n",
       "       '2008-05-10', '2008-05-11', '2008-05-12', '2008-05-13',\n",
       "       '2008-05-14', '2008-05-15', '2008-05-16', '2008-05-17',\n",
       "       '2008-05-18', '2008-05-19', '2008-05-20', '2008-05-21',\n",
       "       '2008-05-23', '2008-05-24', '2008-05-26', '2008-05-27',\n",
       "       '2008-05-30', '2008-05-31', '2008-06-01', '2009-04-18',\n",
       "       '2009-04-19', '2009-04-20', '2009-04-22', '2009-04-23',\n",
       "       '2009-04-24', '2009-04-25', '2009-04-26', '2009-04-27',\n",
       "       '2009-04-28', '2009-04-29', '2009-04-30', '2009-05-01',\n",
       "       '2009-05-02', '2009-05-03', '2009-05-04', '2009-05-05',\n",
       "       '2009-05-06', '2009-05-07', '2009-05-08', '2009-05-09',\n",
       "       '2009-05-10', '2009-05-11', '2009-05-12', '2009-05-13',\n",
       "       '2009-05-14', '2009-05-15', '2009-05-16', '2009-05-17',\n",
       "       '2009-05-18', '2009-05-19', '2009-05-20', '2009-05-21',\n",
       "       '2009-05-22', '2009-05-23', '2009-05-24', '2010-03-12',\n",
       "       '2010-03-13', '2010-03-14', '2010-03-15', '2010-03-16',\n",
       "       '2010-03-17', '2010-03-18', '2010-03-19', '2010-03-20',\n",
       "       '2010-03-21', '2010-03-22', '2010-03-23', '2010-03-24',\n",
       "       '2010-03-25', '2010-03-26', '2010-03-27', '2010-03-28',\n",
       "       '2010-03-29', '2010-03-30', '2010-03-31', '2010-04-01',\n",
       "       '2010-04-02', '2010-04-03', '2010-04-04', '2010-04-05',\n",
       "       '2010-04-06', '2010-04-07', '2010-04-08', '2010-04-09',\n",
       "       '2010-04-10', '2010-04-11', '2010-04-12', '2010-04-13',\n",
       "       '2010-04-14', '2010-04-15', '2010-04-16', '2010-04-17',\n",
       "       '2010-04-18', '2010-04-19', '2010-04-21', '2010-04-22',\n",
       "       '2010-04-24', '2010-04-25', '2011-04-08', '2011-04-09',\n",
       "       '2011-04-10', '2011-04-11', '2011-04-12', '2011-04-13',\n",
       "       '2011-04-14', '2011-04-15', '2011-04-16', '2011-04-17',\n",
       "       '2011-04-19', '2011-04-20', '2011-04-21', '2011-04-22',\n",
       "       '2011-04-23', '2011-04-24', '2011-04-25', '2011-04-26',\n",
       "       '2011-04-27', '2011-04-28', '2011-04-29', '2011-04-30',\n",
       "       '2011-05-01', '2011-05-02', '2011-05-03', '2011-05-04',\n",
       "       '2011-05-05', '2011-05-06', '2011-05-07', '2011-05-08',\n",
       "       '2011-05-09', '2011-05-10', '2011-05-11', '2011-05-12',\n",
       "       '2011-05-13', '2011-05-14', '2011-05-15', '2011-05-16',\n",
       "       '2011-05-17', '2011-05-18', '2011-05-19', '2011-05-20',\n",
       "       '2011-05-21', '2011-05-22', '2011-05-24', '2011-05-25',\n",
       "       '2011-05-27', '2011-05-28', '2012-04-04', '2012-04-05',\n",
       "       '2012-04-06', '2012-04-07', '2012-04-08', '2012-04-09',\n",
       "       '2012-04-10', '2012-04-11', '2012-04-12', '2012-04-13',\n",
       "       '2012-04-19', '2012-04-14', '2012-04-15', '2012-04-16',\n",
       "       '2012-04-17', '2012-04-18', '2012-05-10', '2012-04-20',\n",
       "       '2012-04-21', '2012-04-22', '2012-04-23', '2012-04-24',\n",
       "       '2012-04-25', '2012-04-26', '2012-04-27', '2012-04-28',\n",
       "       '2012-04-29', '2012-04-30', '2012-05-01', '2012-05-02',\n",
       "       '2012-05-03', '2012-05-04', '2012-05-05', '2012-05-06',\n",
       "       '2012-05-07', '2012-05-08', '2012-05-09', '2012-05-11',\n",
       "       '2012-05-12', '2012-05-13', '2012-05-14', '2012-05-15',\n",
       "       '2012-05-16', '2012-05-17', '2012-05-18', '2012-05-19',\n",
       "       '2012-05-20', '2012-05-22', '2012-05-23', '2012-05-25',\n",
       "       '2012-05-27', '2013-04-03', '2013-04-04', '2013-04-05',\n",
       "       '2013-04-06', '2013-04-07', '2013-04-08', '2013-04-09',\n",
       "       '2013-04-10', '2013-04-11', '2013-04-12', '2013-04-13',\n",
       "       '2013-04-14', '2013-04-15', '2013-04-16', '2013-04-17',\n",
       "       '2013-04-18', '2013-04-19', '2013-04-20', '2013-04-21',\n",
       "       '2013-04-22', '2013-04-23', '2013-05-16', '2013-04-24',\n",
       "       '2013-04-25', '2013-04-26', '2013-04-27', '2013-04-28',\n",
       "       '2013-04-29', '2013-04-30', '2013-05-01', '2013-05-02',\n",
       "       '2013-05-03', '2013-05-04', '2013-05-14', '2013-05-05',\n",
       "       '2013-05-07', '2013-05-08', '2013-05-09', '2013-05-10',\n",
       "       '2013-05-11', '2013-05-12', '2013-05-13', '2013-05-15',\n",
       "       '2013-05-06', '2013-05-17', '2013-05-18', '2013-05-19',\n",
       "       '2013-05-21', '2013-05-22', '2013-05-24', '2013-05-26',\n",
       "       '2014-04-16', '2014-04-17', '2014-04-18', '2014-04-19',\n",
       "       '2014-04-20', '2014-04-21', '2014-04-22', '2014-04-23',\n",
       "       '2014-04-24', '2014-04-25', '2014-04-26', '2014-04-27',\n",
       "       '2014-04-28', '2014-04-29', '2014-04-30', '2014-05-02',\n",
       "       '2014-05-03', '2014-05-04', '2014-05-05', '2014-05-06',\n",
       "       '2014-05-07', '2014-05-08', '2014-05-09', '2014-05-10',\n",
       "       '2014-05-11', '2014-05-12', '2014-05-13', '2014-05-14',\n",
       "       '2014-05-15', '2014-05-18', '2014-05-19', '2014-05-20',\n",
       "       '2014-05-21', '2014-05-22', '2014-05-23', '2014-05-24',\n",
       "       '2014-05-25', '2014-05-27', '2014-05-28', '2014-05-30',\n",
       "       '2014-06-01', '2015-04-08', '2015-04-09', '2015-04-10',\n",
       "       '2015-04-11', '2015-04-12', '2015-04-13', '2015-04-14',\n",
       "       '2015-04-30', '2015-04-15', '2015-04-16', '2015-04-17',\n",
       "       '2015-04-18', '2015-04-19', '2015-04-20', '2015-04-21',\n",
       "       '2015-04-22', '2015-04-23', '2015-04-24', '2015-04-25',\n",
       "       '2015-04-26', '2015-04-27', '2015-05-07', '2015-04-28',\n",
       "       '2015-05-01', '2015-05-02', '2015-05-03', '2015-05-04',\n",
       "       '2015-05-05', '2015-05-06', '2015-05-08', '2015-05-09',\n",
       "       '2015-05-10', '2015-05-11', '2015-05-12', '2015-05-13',\n",
       "       '2015-05-14', '2015-05-16', '2015-05-17', '2015-05-19',\n",
       "       '2015-05-20', '2015-05-22', '2015-05-24', '2016-04-09',\n",
       "       '2016-04-10', '2016-04-11', '2016-04-12', '2016-04-13',\n",
       "       '2016-04-14', '2016-04-15', '2016-04-16', '2016-04-17',\n",
       "       '2016-04-18', '2016-04-19', '2016-04-20', '2016-04-21',\n",
       "       '2016-04-22', '2016-04-23', '2016-04-24', '2016-04-25',\n",
       "       '2016-04-27', '2016-04-28', '2016-04-29', '2016-04-30',\n",
       "       '2016-05-01', '2016-05-02', '2016-05-03', '2016-05-04',\n",
       "       '2016-05-05', '2016-05-06', '2016-05-07', '2016-05-08',\n",
       "       '2016-05-09', '2016-05-10', '2016-05-11', '2016-05-12',\n",
       "       '2016-05-13', '2016-05-14', '2016-05-15', '2016-05-16',\n",
       "       '2016-05-19', '2016-05-20', '2016-05-21', '2016-05-22',\n",
       "       '2016-05-24', '2016-05-25', '2016-05-27', '2016-05-29',\n",
       "       '2017-04-05', '2017-04-06', '2017-04-07', '2017-04-08',\n",
       "       '2017-04-09', '2017-04-10', '2017-04-11', '2017-04-12',\n",
       "       '2017-04-13', '2017-04-14', '2017-04-15', '2017-04-16',\n",
       "       '2017-04-17', '2017-04-18', '2017-04-19', '2017-04-20',\n",
       "       '2017-04-21', '2017-04-22', '2017-04-23', '2017-04-24',\n",
       "       '2017-04-26', '2017-04-27', '2017-04-28', '2017-04-29',\n",
       "       '2017-04-30', '2017-05-01', '2017-05-02', '2017-05-03',\n",
       "       '2017-05-04', '2017-05-05', '2017-05-06', '2017-05-07',\n",
       "       '2017-05-08', '2017-05-09', '2017-05-10', '2017-05-11',\n",
       "       '2017-05-12', '2017-05-13', '2017-05-14', '2017-05-16',\n",
       "       '2017-05-19', '2017-05-21'], dtype=object)"
      ]
     },
     "execution_count": 15,
     "metadata": {},
     "output_type": "execute_result"
    }
   ],
   "source": [
    "ipl['date'].unique()"
   ]
  },
  {
   "cell_type": "code",
   "execution_count": 16,
   "id": "f25b72d8",
   "metadata": {},
   "outputs": [],
   "source": [
    "df = ipl.drop(['date', 'runs', 'wickets', 'overs', 'runs_last_5', 'wickets_last_5','mid', 'striker', 'non-striker'], axis =1)\n",
    "\n",
    "# dropping certain unimpotant features "
   ]
  },
  {
   "cell_type": "code",
   "execution_count": 17,
   "id": "96bfa99f",
   "metadata": {},
   "outputs": [],
   "source": [
    "X = df.drop(['total'], axis =1)\n",
    "y = df['total']\n",
    "\n",
    "# spliting the data frame into independent variable (X) and dependent variables (y)"
   ]
  },
  {
   "cell_type": "code",
   "execution_count": 18,
   "id": "c89d1092",
   "metadata": {},
   "outputs": [],
   "source": [
    "from sklearn.preprocessing import LabelEncoder\n",
    "\n",
    "# Create a LabelEncoder object for each categorical feature\n",
    "venue_encoder = LabelEncoder()\n",
    "batting_team_encoder = LabelEncoder()\n",
    "bowling_team_encoder = LabelEncoder()\n",
    "striker_encoder = LabelEncoder()\n",
    "bowler_encoder = LabelEncoder()\n",
    "\n",
    "# Fit and transform the categorical features with label encoding\n",
    "X['venue'] = venue_encoder.fit_transform(X['venue'])\n",
    "X['bat_team'] = batting_team_encoder.fit_transform(X['bat_team'])\n",
    "X['bowl_team'] = bowling_team_encoder.fit_transform(X['bowl_team'])\n",
    "X['batsman'] = striker_encoder.fit_transform(X['batsman'])\n",
    "X['bowler'] = bowler_encoder.fit_transform(X['bowler'])"
   ]
  },
  {
   "cell_type": "code",
   "execution_count": 19,
   "id": "0cbdece7",
   "metadata": {},
   "outputs": [],
   "source": [
    "# Train test Split \n",
    "from sklearn.model_selection import train_test_split\n",
    "X_train, X_test, y_train, y_test = train_test_split(X, y, test_size=0.3, random_state=42)"
   ]
  },
  {
   "cell_type": "code",
   "execution_count": 20,
   "id": "4b1e6e00",
   "metadata": {},
   "outputs": [],
   "source": [
    "from sklearn.preprocessing import MinMaxScaler\n",
    "\n",
    "scaler = MinMaxScaler()\n",
    "\n",
    "# Fit the scaler on the training data and transform both training and testing data\n",
    "X_train_scaled = scaler.fit_transform(X_train)\n",
    "X_test_scaled = scaler.transform(X_test)"
   ]
  },
  {
   "cell_type": "code",
   "execution_count": 21,
   "id": "8c8ada67",
   "metadata": {},
   "outputs": [],
   "source": [
    "# Define the neural network model\n",
    "model = keras.Sequential([\n",
    "    keras.layers.Input( shape=(X_train_scaled.shape[1],)),  # Input layer\n",
    "    keras.layers.Dense(512, activation='relu'),  # Hidden layer with 512 units and ReLU activation\n",
    "    keras.layers.Dense(216, activation='relu'),  # Hidden layer with 216 units and ReLU activation\n",
    "    keras.layers.Dense(1, activation='linear')  # Output layer with linear activation for regression\n",
    "])\n",
    "\n",
    "# Compile the model with Huber loss\n",
    "huber_loss = tf.keras.losses.Huber(delta=1.0)  # You can adjust the 'delta' parameter as needed\n",
    "model.compile(optimizer='adam', loss=huber_loss)  # Use Huber loss for regression"
   ]
  },
  {
   "cell_type": "code",
   "execution_count": 22,
   "id": "f9b1c39e",
   "metadata": {},
   "outputs": [
    {
     "name": "stdout",
     "output_type": "stream",
     "text": [
      "Epoch 1/50\n",
      "\u001b[1m832/832\u001b[0m \u001b[32m━━━━━━━━━━━━━━━━━━━━\u001b[0m\u001b[37m\u001b[0m \u001b[1m10s\u001b[0m 9ms/step - loss: 54.5658 - val_loss: 22.0959\n",
      "Epoch 2/50\n",
      "\u001b[1m832/832\u001b[0m \u001b[32m━━━━━━━━━━━━━━━━━━━━\u001b[0m\u001b[37m\u001b[0m \u001b[1m8s\u001b[0m 9ms/step - loss: 22.3261 - val_loss: 21.9936\n",
      "Epoch 3/50\n",
      "\u001b[1m832/832\u001b[0m \u001b[32m━━━━━━━━━━━━━━━━━━━━\u001b[0m\u001b[37m\u001b[0m \u001b[1m10s\u001b[0m 9ms/step - loss: 22.2498 - val_loss: 22.1853\n",
      "Epoch 4/50\n",
      "\u001b[1m832/832\u001b[0m \u001b[32m━━━━━━━━━━━━━━━━━━━━\u001b[0m\u001b[37m\u001b[0m \u001b[1m7s\u001b[0m 9ms/step - loss: 22.2079 - val_loss: 21.9537\n",
      "Epoch 5/50\n",
      "\u001b[1m832/832\u001b[0m \u001b[32m━━━━━━━━━━━━━━━━━━━━\u001b[0m\u001b[37m\u001b[0m \u001b[1m10s\u001b[0m 9ms/step - loss: 22.1457 - val_loss: 22.0474\n",
      "Epoch 6/50\n",
      "\u001b[1m832/832\u001b[0m \u001b[32m━━━━━━━━━━━━━━━━━━━━\u001b[0m\u001b[37m\u001b[0m \u001b[1m10s\u001b[0m 9ms/step - loss: 22.2150 - val_loss: 21.8658\n",
      "Epoch 7/50\n",
      "\u001b[1m832/832\u001b[0m \u001b[32m━━━━━━━━━━━━━━━━━━━━\u001b[0m\u001b[37m\u001b[0m \u001b[1m10s\u001b[0m 9ms/step - loss: 22.3073 - val_loss: 21.8109\n",
      "Epoch 8/50\n",
      "\u001b[1m832/832\u001b[0m \u001b[32m━━━━━━━━━━━━━━━━━━━━\u001b[0m\u001b[37m\u001b[0m \u001b[1m7s\u001b[0m 8ms/step - loss: 22.0832 - val_loss: 21.8313\n",
      "Epoch 9/50\n",
      "\u001b[1m832/832\u001b[0m \u001b[32m━━━━━━━━━━━━━━━━━━━━\u001b[0m\u001b[37m\u001b[0m \u001b[1m11s\u001b[0m 9ms/step - loss: 22.0454 - val_loss: 22.4942\n",
      "Epoch 10/50\n",
      "\u001b[1m832/832\u001b[0m \u001b[32m━━━━━━━━━━━━━━━━━━━━\u001b[0m\u001b[37m\u001b[0m \u001b[1m10s\u001b[0m 8ms/step - loss: 22.1138 - val_loss: 21.8275\n",
      "Epoch 11/50\n",
      "\u001b[1m832/832\u001b[0m \u001b[32m━━━━━━━━━━━━━━━━━━━━\u001b[0m\u001b[37m\u001b[0m \u001b[1m11s\u001b[0m 9ms/step - loss: 22.0204 - val_loss: 22.0870\n",
      "Epoch 12/50\n",
      "\u001b[1m832/832\u001b[0m \u001b[32m━━━━━━━━━━━━━━━━━━━━\u001b[0m\u001b[37m\u001b[0m \u001b[1m8s\u001b[0m 9ms/step - loss: 22.1387 - val_loss: 21.7870\n",
      "Epoch 13/50\n",
      "\u001b[1m832/832\u001b[0m \u001b[32m━━━━━━━━━━━━━━━━━━━━\u001b[0m\u001b[37m\u001b[0m \u001b[1m10s\u001b[0m 9ms/step - loss: 21.8747 - val_loss: 21.8528\n",
      "Epoch 14/50\n",
      "\u001b[1m832/832\u001b[0m \u001b[32m━━━━━━━━━━━━━━━━━━━━\u001b[0m\u001b[37m\u001b[0m \u001b[1m10s\u001b[0m 9ms/step - loss: 21.8689 - val_loss: 21.8916\n",
      "Epoch 15/50\n",
      "\u001b[1m832/832\u001b[0m \u001b[32m━━━━━━━━━━━━━━━━━━━━\u001b[0m\u001b[37m\u001b[0m \u001b[1m10s\u001b[0m 9ms/step - loss: 21.9239 - val_loss: 21.5508\n",
      "Epoch 16/50\n",
      "\u001b[1m832/832\u001b[0m \u001b[32m━━━━━━━━━━━━━━━━━━━━\u001b[0m\u001b[37m\u001b[0m \u001b[1m10s\u001b[0m 9ms/step - loss: 21.8929 - val_loss: 21.6462\n",
      "Epoch 17/50\n",
      "\u001b[1m832/832\u001b[0m \u001b[32m━━━━━━━━━━━━━━━━━━━━\u001b[0m\u001b[37m\u001b[0m \u001b[1m8s\u001b[0m 9ms/step - loss: 21.8462 - val_loss: 21.7186\n",
      "Epoch 18/50\n",
      "\u001b[1m832/832\u001b[0m \u001b[32m━━━━━━━━━━━━━━━━━━━━\u001b[0m\u001b[37m\u001b[0m \u001b[1m11s\u001b[0m 10ms/step - loss: 21.7276 - val_loss: 21.3533\n",
      "Epoch 19/50\n",
      "\u001b[1m832/832\u001b[0m \u001b[32m━━━━━━━━━━━━━━━━━━━━\u001b[0m\u001b[37m\u001b[0m \u001b[1m10s\u001b[0m 9ms/step - loss: 21.6580 - val_loss: 21.2597\n",
      "Epoch 20/50\n",
      "\u001b[1m832/832\u001b[0m \u001b[32m━━━━━━━━━━━━━━━━━━━━\u001b[0m\u001b[37m\u001b[0m \u001b[1m8s\u001b[0m 9ms/step - loss: 21.4579 - val_loss: 21.2036\n",
      "Epoch 21/50\n",
      "\u001b[1m832/832\u001b[0m \u001b[32m━━━━━━━━━━━━━━━━━━━━\u001b[0m\u001b[37m\u001b[0m \u001b[1m11s\u001b[0m 10ms/step - loss: 21.5984 - val_loss: 21.2096\n",
      "Epoch 22/50\n",
      "\u001b[1m832/832\u001b[0m \u001b[32m━━━━━━━━━━━━━━━━━━━━\u001b[0m\u001b[37m\u001b[0m \u001b[1m10s\u001b[0m 10ms/step - loss: 21.4335 - val_loss: 21.1670\n",
      "Epoch 23/50\n",
      "\u001b[1m832/832\u001b[0m \u001b[32m━━━━━━━━━━━━━━━━━━━━\u001b[0m\u001b[37m\u001b[0m \u001b[1m8s\u001b[0m 9ms/step - loss: 21.3682 - val_loss: 21.0439\n",
      "Epoch 24/50\n",
      "\u001b[1m832/832\u001b[0m \u001b[32m━━━━━━━━━━━━━━━━━━━━\u001b[0m\u001b[37m\u001b[0m \u001b[1m10s\u001b[0m 10ms/step - loss: 21.3161 - val_loss: 21.5640\n",
      "Epoch 25/50\n",
      "\u001b[1m832/832\u001b[0m \u001b[32m━━━━━━━━━━━━━━━━━━━━\u001b[0m\u001b[37m\u001b[0m \u001b[1m10s\u001b[0m 9ms/step - loss: 21.2800 - val_loss: 21.3892\n",
      "Epoch 26/50\n",
      "\u001b[1m832/832\u001b[0m \u001b[32m━━━━━━━━━━━━━━━━━━━━\u001b[0m\u001b[37m\u001b[0m \u001b[1m10s\u001b[0m 9ms/step - loss: 21.3154 - val_loss: 21.3826\n",
      "Epoch 27/50\n",
      "\u001b[1m832/832\u001b[0m \u001b[32m━━━━━━━━━━━━━━━━━━━━\u001b[0m\u001b[37m\u001b[0m \u001b[1m8s\u001b[0m 9ms/step - loss: 21.1886 - val_loss: 21.1419\n",
      "Epoch 28/50\n",
      "\u001b[1m832/832\u001b[0m \u001b[32m━━━━━━━━━━━━━━━━━━━━\u001b[0m\u001b[37m\u001b[0m \u001b[1m10s\u001b[0m 10ms/step - loss: 21.1590 - val_loss: 20.9028\n",
      "Epoch 29/50\n",
      "\u001b[1m832/832\u001b[0m \u001b[32m━━━━━━━━━━━━━━━━━━━━\u001b[0m\u001b[37m\u001b[0m \u001b[1m8s\u001b[0m 9ms/step - loss: 21.0636 - val_loss: 20.8395\n",
      "Epoch 30/50\n",
      "\u001b[1m832/832\u001b[0m \u001b[32m━━━━━━━━━━━━━━━━━━━━\u001b[0m\u001b[37m\u001b[0m \u001b[1m7s\u001b[0m 9ms/step - loss: 20.9412 - val_loss: 20.7727\n",
      "Epoch 31/50\n",
      "\u001b[1m832/832\u001b[0m \u001b[32m━━━━━━━━━━━━━━━━━━━━\u001b[0m\u001b[37m\u001b[0m \u001b[1m11s\u001b[0m 10ms/step - loss: 20.9301 - val_loss: 21.0882\n",
      "Epoch 32/50\n",
      "\u001b[1m832/832\u001b[0m \u001b[32m━━━━━━━━━━━━━━━━━━━━\u001b[0m\u001b[37m\u001b[0m \u001b[1m10s\u001b[0m 9ms/step - loss: 21.0842 - val_loss: 20.6178\n",
      "Epoch 33/50\n",
      "\u001b[1m832/832\u001b[0m \u001b[32m━━━━━━━━━━━━━━━━━━━━\u001b[0m\u001b[37m\u001b[0m \u001b[1m11s\u001b[0m 10ms/step - loss: 20.6780 - val_loss: 20.4808\n",
      "Epoch 34/50\n",
      "\u001b[1m832/832\u001b[0m \u001b[32m━━━━━━━━━━━━━━━━━━━━\u001b[0m\u001b[37m\u001b[0m \u001b[1m8s\u001b[0m 9ms/step - loss: 20.6505 - val_loss: 20.4676\n",
      "Epoch 35/50\n",
      "\u001b[1m832/832\u001b[0m \u001b[32m━━━━━━━━━━━━━━━━━━━━\u001b[0m\u001b[37m\u001b[0m \u001b[1m10s\u001b[0m 9ms/step - loss: 20.4642 - val_loss: 20.3462\n",
      "Epoch 36/50\n",
      "\u001b[1m832/832\u001b[0m \u001b[32m━━━━━━━━━━━━━━━━━━━━\u001b[0m\u001b[37m\u001b[0m \u001b[1m7s\u001b[0m 8ms/step - loss: 20.5060 - val_loss: 20.2826\n",
      "Epoch 37/50\n",
      "\u001b[1m832/832\u001b[0m \u001b[32m━━━━━━━━━━━━━━━━━━━━\u001b[0m\u001b[37m\u001b[0m \u001b[1m8s\u001b[0m 10ms/step - loss: 20.2624 - val_loss: 20.2180\n",
      "Epoch 38/50\n",
      "\u001b[1m832/832\u001b[0m \u001b[32m━━━━━━━━━━━━━━━━━━━━\u001b[0m\u001b[37m\u001b[0m \u001b[1m11s\u001b[0m 11ms/step - loss: 20.2585 - val_loss: 19.8917\n",
      "Epoch 39/50\n",
      "\u001b[1m832/832\u001b[0m \u001b[32m━━━━━━━━━━━━━━━━━━━━\u001b[0m\u001b[37m\u001b[0m \u001b[1m8s\u001b[0m 9ms/step - loss: 20.2524 - val_loss: 19.8360\n",
      "Epoch 40/50\n",
      "\u001b[1m832/832\u001b[0m \u001b[32m━━━━━━━━━━━━━━━━━━━━\u001b[0m\u001b[37m\u001b[0m \u001b[1m7s\u001b[0m 9ms/step - loss: 20.1113 - val_loss: 20.0985\n",
      "Epoch 41/50\n",
      "\u001b[1m832/832\u001b[0m \u001b[32m━━━━━━━━━━━━━━━━━━━━\u001b[0m\u001b[37m\u001b[0m \u001b[1m8s\u001b[0m 9ms/step - loss: 19.9210 - val_loss: 19.7120\n",
      "Epoch 42/50\n",
      "\u001b[1m832/832\u001b[0m \u001b[32m━━━━━━━━━━━━━━━━━━━━\u001b[0m\u001b[37m\u001b[0m \u001b[1m11s\u001b[0m 10ms/step - loss: 19.5984 - val_loss: 19.7752\n",
      "Epoch 43/50\n",
      "\u001b[1m832/832\u001b[0m \u001b[32m━━━━━━━━━━━━━━━━━━━━\u001b[0m\u001b[37m\u001b[0m \u001b[1m10s\u001b[0m 10ms/step - loss: 19.8205 - val_loss: 19.5483\n",
      "Epoch 44/50\n",
      "\u001b[1m832/832\u001b[0m \u001b[32m━━━━━━━━━━━━━━━━━━━━\u001b[0m\u001b[37m\u001b[0m \u001b[1m10s\u001b[0m 10ms/step - loss: 19.5320 - val_loss: 19.7757\n",
      "Epoch 45/50\n",
      "\u001b[1m832/832\u001b[0m \u001b[32m━━━━━━━━━━━━━━━━━━━━\u001b[0m\u001b[37m\u001b[0m \u001b[1m10s\u001b[0m 9ms/step - loss: 19.4463 - val_loss: 19.4348\n",
      "Epoch 46/50\n",
      "\u001b[1m832/832\u001b[0m \u001b[32m━━━━━━━━━━━━━━━━━━━━\u001b[0m\u001b[37m\u001b[0m \u001b[1m10s\u001b[0m 9ms/step - loss: 19.4162 - val_loss: 19.3103\n",
      "Epoch 47/50\n",
      "\u001b[1m832/832\u001b[0m \u001b[32m━━━━━━━━━━━━━━━━━━━━\u001b[0m\u001b[37m\u001b[0m \u001b[1m8s\u001b[0m 9ms/step - loss: 19.3293 - val_loss: 19.4576\n",
      "Epoch 48/50\n",
      "\u001b[1m832/832\u001b[0m \u001b[32m━━━━━━━━━━━━━━━━━━━━\u001b[0m\u001b[37m\u001b[0m \u001b[1m8s\u001b[0m 9ms/step - loss: 19.2532 - val_loss: 19.0932\n",
      "Epoch 49/50\n",
      "\u001b[1m832/832\u001b[0m \u001b[32m━━━━━━━━━━━━━━━━━━━━\u001b[0m\u001b[37m\u001b[0m \u001b[1m8s\u001b[0m 9ms/step - loss: 19.1514 - val_loss: 19.0116\n",
      "Epoch 50/50\n",
      "\u001b[1m832/832\u001b[0m \u001b[32m━━━━━━━━━━━━━━━━━━━━\u001b[0m\u001b[37m\u001b[0m \u001b[1m11s\u001b[0m 10ms/step - loss: 19.1108 - val_loss: 19.0828\n"
     ]
    },
    {
     "data": {
      "text/plain": [
       "<keras.src.callbacks.history.History at 0x287b4262840>"
      ]
     },
     "execution_count": 22,
     "metadata": {},
     "output_type": "execute_result"
    }
   ],
   "source": [
    "# Train the model\n",
    "model.fit(X_train_scaled, y_train, epochs=50, batch_size=64, validation_data=(X_test_scaled, y_test))"
   ]
  },
  {
   "cell_type": "code",
   "execution_count": 23,
   "id": "0e28c286",
   "metadata": {},
   "outputs": [
    {
     "data": {
      "text/plain": [
       "<Axes: >"
      ]
     },
     "execution_count": 23,
     "metadata": {},
     "output_type": "execute_result"
    },
    {
     "data": {
      "image/png": "[encoded data removed]",
      "text/plain": [
       "<Figure size 640x480 with 1 Axes>"
      ]
     },
     "metadata": {},
     "output_type": "display_data"
    }
   ],
   "source": [
    "model_losses = pd.DataFrame(model.history.history)\n",
    "model_losses.plot()"
   ]
  },
  {
   "cell_type": "code",
   "execution_count": 24,
   "id": "c8cb2e20",
   "metadata": {},
   "outputs": [
    {
     "name": "stdout",
     "output_type": "stream",
     "text": [
      "\u001b[1m713/713\u001b[0m \u001b[32m━━━━━━━━━━━━━━━━━━━━\u001b[0m\u001b[37m\u001b[0m \u001b[1m2s\u001b[0m 3ms/step\n"
     ]
    },
    {
     "data": {
      "text/plain": [
       "19.574085235595703"
      ]
     },
     "execution_count": 24,
     "metadata": {},
     "output_type": "execute_result"
    }
   ],
   "source": [
    "# Make predictions\n",
    "predictions = model.predict(X_test_scaled)\n",
    "\n",
    "from sklearn.metrics import mean_absolute_error,mean_squared_error\n",
    "mean_absolute_error(y_test,predictions)"
   ]
  },
  {
   "cell_type": "code",
   "execution_count": 25,
   "id": "e732d402",
   "metadata": {},
   "outputs": [],
   "source": [
    "import ipywidgets as widgets\n",
    "from IPython.display import display, clear_output\n",
    "\n",
    "import warnings\n",
    "warnings.filterwarnings(\"ignore\")\n",
    "\n",
    "venue = widgets.Dropdown(options=df['venue'].unique().tolist(),description='Select Venue:')\n",
    "batting_team = widgets.Dropdown(options =df['bat_team'].unique().tolist(),  description='Select Batting Team:')\n",
    "bowling_team = widgets.Dropdown(options=df['bowl_team'].unique().tolist(),  description='Select Bowling Team:')\n",
    "striker = widgets.Dropdown(options=df['batsman'].unique().tolist(), description='Select Striker:')\n",
    "bowler = widgets.Dropdown(options=df['bowler'].unique().tolist(), description='Select Bowler:')\n",
    "\n",
    "\n",
    "predict_button = widgets.Button(description=\"Predict Score\")\n",
    "\n",
    "def predict_score(b):\n",
    "    with output:\n",
    "        clear_output()  # Clear the previous output\n",
    "        \n",
    "\n",
    "        # Decode the encoded values back to their original values\n",
    "        decoded_venue = venue_encoder.transform([venue.value])\n",
    "        decoded_batting_team = batting_team_encoder.transform([batting_team.value])\n",
    "        decoded_bowling_team = bowling_team_encoder.transform([bowling_team.value])\n",
    "        decoded_striker = striker_encoder.transform([striker.value])\n",
    "        decoded_bowler = bowler_encoder.transform([bowler.value])\n",
    "        \n",
    "\n",
    "\n",
    "        input = np.array([decoded_venue,  decoded_batting_team, decoded_bowling_team,decoded_striker, decoded_bowler,])\n",
    "        input = input.reshape(1,5)\n",
    "        input = scaler.transform(input)\n",
    "        #print(input)\n",
    "        predicted_score = model.predict(input)\n",
    "        predicted_score = int(predicted_score[0,0])\n",
    "\n",
    "        print(predicted_score)\n"
   ]
  },
  {
   "cell_type": "code",
   "execution_count": 26,
   "id": "5755095f-8050-46f7-bf0b-26e697cecd9b",
   "metadata": {},
   "outputs": [
    {
     "data": {
      "application/vnd.jupyter.widget-view+json": {
       "model_id": "49a18ff388d642539aecc8a550df3a84",
       "version_major": 2,
       "version_minor": 0
      },
      "text/plain": [
       "Dropdown(description='Select Venue:', options=('M Chinnaswamy Stadium', 'Punjab Cricket Association Stadium, M…"
      ]
     },
     "metadata": {},
     "output_type": "display_data"
    },
    {
     "data": {
      "application/vnd.jupyter.widget-view+json": {
       "model_id": "6c9b0658f721483aafeef73e2184df35",
       "version_major": 2,
       "version_minor": 0
      },
      "text/plain": [
       "Dropdown(description='Select Batting Team:', options=('Kolkata Knight Riders', 'Chennai Super Kings', 'Rajasth…"
      ]
     },
     "metadata": {},
     "output_type": "display_data"
    },
    {
     "data": {
      "application/vnd.jupyter.widget-view+json": {
       "model_id": "caeff5f5331d48a6a845668b91c22189",
       "version_major": 2,
       "version_minor": 0
      },
      "text/plain": [
       "Dropdown(description='Select Bowling Team:', options=('Royal Challengers Bangalore', 'Kings XI Punjab', 'Delhi…"
      ]
     },
     "metadata": {},
     "output_type": "display_data"
    },
    {
     "data": {
      "application/vnd.jupyter.widget-view+json": {
       "model_id": "b976b25895cd44a1a813b05e31e529d4",
       "version_major": 2,
       "version_minor": 0
      },
      "text/plain": [
       "Dropdown(description='Select Striker:', options=('SC Ganguly', 'BB McCullum', 'RT Ponting', 'DJ Hussey', 'Moha…"
      ]
     },
     "metadata": {},
     "output_type": "display_data"
    },
    {
     "data": {
      "application/vnd.jupyter.widget-view+json": {
       "model_id": "65b3e6f6d33b4267a0852e646101de3c",
       "version_major": 2,
       "version_minor": 0
      },
      "text/plain": [
       "Dropdown(description='Select Bowler:', options=('P Kumar', 'Z Khan', 'AA Noffke', 'JH Kallis', 'SB Joshi', 'CL…"
      ]
     },
     "metadata": {},
     "output_type": "display_data"
    },
    {
     "data": {
      "application/vnd.jupyter.widget-view+json": {
       "model_id": "97cb22eb7f154a1ea4a38068672443a6",
       "version_major": 2,
       "version_minor": 0
      },
      "text/plain": [
       "Button(description='Predict Score', style=ButtonStyle())"
      ]
     },
     "metadata": {},
     "output_type": "display_data"
    },
    {
     "data": {
      "application/vnd.jupyter.widget-view+json": {
       "model_id": "b40fe580472042d38ea6aceb7fc05680",
       "version_major": 2,
       "version_minor": 0
      },
      "text/plain": [
       "Output()"
      ]
     },
     "metadata": {},
     "output_type": "display_data"
    }
   ],
   "source": [
    "predict_button.on_click(predict_score)\n",
    "output = widgets.Output()\n",
    "display(venue, batting_team, bowling_team, striker, bowler, predict_button, output)"
   ]
  }
 ],
 "metadata": {
  "kernelspec": {
   "display_name": "Python 3 (ipykernel)",
   "language": "python",
   "name": "python3"
  },
  "language_info": {
   "codemirror_mode": {
    "name": "ipython",
    "version": 3
   },
   "file_extension": ".py",
   "mimetype": "text/x-python",
   "name": "python",
   "nbconvert_exporter": "python",
   "pygments_lexer": "ipython3",
   "version": "3.12.4"
  }
 },
 "nbformat": 4,
 "nbformat_minor": 5
}
